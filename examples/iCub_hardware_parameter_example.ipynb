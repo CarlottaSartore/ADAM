{
 "cells": [
  {
   "cell_type": "code",
   "execution_count": 1,
   "metadata": {},
   "outputs": [],
   "source": [
    "from adam.core.computations import KinDynComputations\n",
    "from adam.geometry import utils\n",
    "import numpy as np\n",
    "import casadi as cs\n",
    "import math\n",
    "import gym_ignition_models\n",
    "from adam.core.computationsWithHardwareParameters import  KinDynComputationsWithHardwareParameters\n",
    "from adam.geometry import linkParametric\n",
    "from urdfpy import xyz_rpy_to_matrix, matrix_to_xyz_rpy"
   ]
  },
  {
   "cell_type": "code",
   "execution_count": 2,
   "metadata": {},
   "outputs": [],
   "source": [
    "def SX2DM(sx):\n",
    "    return cs.DM(sx)"
   ]
  },
  {
   "cell_type": "markdown",
   "metadata": {},
   "source": [
    "# Loading the model "
   ]
  },
  {
   "cell_type": "code",
   "execution_count": 3,
   "metadata": {},
   "outputs": [
    {
     "name": "stdout",
     "output_type": "stream",
     "text": [
      "{'l_ankle_pitch': <adam.geometry.linkParametric.JointCharacteristics object at 0x7f5c3874f940>}\n"
     ]
    },
    {
     "name": "stderr",
     "output_type": "stream",
     "text": [
      "Unknown tag: sensor\n",
      "Unknown tag: sensor\n",
      "Unknown tag: sensor\n",
      "Unknown tag: sensor\n",
      "Unknown tag: sensor\n",
      "Unknown tag: sensor\n",
      "Unknown tag: sensor\n",
      "Unknown tag: sensor\n",
      "Unknown tag: sensor\n",
      "Unknown tag: sensor\n",
      "Unknown tag: sensor\n",
      "Unknown tag: sensor\n",
      "Unknown tag: sensor\n",
      "Unknown tag: sensor\n",
      "Unknown tag: sensor\n",
      "Unknown tag: sensor\n",
      "Unknown tag: sensor\n",
      "Unknown tag: sensor\n",
      "Unknown tag: sensor\n",
      "Unknown tag: sensor\n",
      "Unknown tag: sensor\n",
      "Unknown tag: sensor\n",
      "Unknown tag: sensor\n",
      "Unknown tag: sensor\n",
      "Unknown tag: sensor\n",
      "Unknown tag: sensor\n",
      "Unknown tag: sensor\n",
      "Unknown tag: sensor\n",
      "Unknown tag: sensor\n",
      "Unknown tag: sensor\n"
     ]
    }
   ],
   "source": [
    "\n",
    "urdf_path =\"/home/carlotta/iit_ws/ergocub-gazebo-simulations/models/stickBot/model.urdf\"\n",
    "urdf_path_old = gym_ignition_models.get_model_file(\"iCubGazeboV2_5\")\n",
    "# The joint list\n",
    "joints_name_list = [\n",
    "    'torso_pitch', 'torso_roll', 'torso_yaw', 'l_shoulder_pitch',\n",
    "    'l_shoulder_roll', 'l_shoulder_yaw', 'l_elbow', 'r_shoulder_pitch',\n",
    "    'r_shoulder_roll', 'r_shoulder_yaw', 'r_elbow', 'l_hip_pitch', 'l_hip_roll',\n",
    "    'l_hip_yaw', 'l_knee', 'l_ankle_pitch', 'l_ankle_roll', 'r_hip_pitch',\n",
    "    'r_hip_roll', 'r_hip_yaw', 'r_knee', 'r_ankle_pitch', 'r_ankle_roll'\n",
    "]\n",
    "link_name_list = ['l_lower_leg']\n",
    "link_name_list_empty  = []\n",
    "r_hip_r_char = linkParametric.LinkCharacteristics(-0.03)\n",
    "r_hip_yaw_char = linkParametric.JointCharacteristics(-0.055989)\n",
    "link_name = 'l_lower_leg'\n",
    "link_characteristics = {link_name: r_hip_r_char}\n",
    "joint_characteristics = {'l_ankle_pitch': r_hip_yaw_char}\n",
    "print(joint_characteristics)\n",
    "root_link = 'root_link'\n",
    "kinDyn =KinDynComputationsWithHardwareParameters(urdf_path, joints_name_list,link_name_list, root_link, link_characteristics, joint_characteristics)\n",
    "\n",
    "kinDynNoParametric = KinDynComputations(urdf_path,joints_name_list, root_link)\n",
    "kynDynParam_NoLink = KinDynComputationsWithHardwareParameters(urdf_path, joints_name_list, link_name_list_empty, root_link)\n"
   ]
  },
  {
   "cell_type": "markdown",
   "metadata": {},
   "source": [
    "### Variable definition"
   ]
  },
  {
   "cell_type": "code",
   "execution_count": 4,
   "metadata": {},
   "outputs": [],
   "source": [
    "# Set joints and base informations\n",
    "link_original = kinDyn.get_element_by_name(link_name, kinDyn.robot)\n",
    "r_hip_r_char = linkParametric.LinkCharacteristics(0.058)\n",
    "length = link_original.visuals[0].geometry.cylinder.length \n",
    "radius = link_original.visuals[0].geometry.cylinder.radius\n",
    "volume = math.pi*radius**2*length\n",
    "mass = link_original.inertial.mass\n",
    "density_num = mass/volume\n",
    "\n",
    "xyz = (np.random.rand(3) - 0.5) * 5\n",
    "rpy = (np.random.rand(3) - 0.5) * 5\n",
    "H_b = utils.H_from_PosRPY(xyz, rpy)\n",
    "v_b = (np.random.rand(6) - 0.5) * 5\n",
    "s = (np.random.rand(len(joints_name_list)) - 0.5) * 5\n",
    "s_dot = (np.random.rand(len(joints_name_list)) - 0.5) * 5\n",
    "density =density_num \n",
    "lenght_multiplier = 1\n",
    "gravity =np.array([0, 0, -9.80665, 0, 0, 0])"
   ]
  },
  {
   "cell_type": "markdown",
   "metadata": {},
   "source": [
    "### Mass and Centroidal Matrix "
   ]
  },
  {
   "cell_type": "markdown",
   "metadata": {},
   "source": []
  },
  {
   "cell_type": "markdown",
   "metadata": {},
   "source": []
  },
  {
   "cell_type": "code",
   "execution_count": 5,
   "metadata": {},
   "outputs": [],
   "source": [
    "[M, J_cmm] = kinDyn.crba()\n",
    "M = kinDyn.mass_matrix_fun() \n",
    "J_cmm = kinDyn.centroidal_momentum_matrix_fun()\n",
    "\n",
    "# print(\"M\", M(H_b, s, density, lenght_multiplier))\n",
    "# print(\"J_cmm\",J_cmm(H_b, s, density, lenght_multiplier))"
   ]
  },
  {
   "cell_type": "code",
   "execution_count": 6,
   "metadata": {},
   "outputs": [],
   "source": [
    "M_no_parametric = kinDynNoParametric.mass_matrix_fun()\n",
    "M_parametric_no_link = kynDynParam_NoLink.mass_matrix_fun()\n",
    "M_no_parametric_value = M_no_parametric(H_b, s)\n",
    "# M_no_parametric_value = M_parametric_no_link(H_b,s,density,lenght_multiplier)\n",
    "M_value = M(H_b, s, density, lenght_multiplier)\n",
    "# print(\"M\", M_no_parametric(H_b, s,density, lenght_multiplier))\n",
    "\n"
   ]
  },
  {
   "cell_type": "code",
   "execution_count": 7,
   "metadata": {},
   "outputs": [
    {
     "name": "stdout",
     "output_type": "stream",
     "text": [
      "Total Error Mass Matrices 1.2051873713413153e-12\n"
     ]
    }
   ],
   "source": [
    "error = 0 \n",
    "for i in range(29):\n",
    "    for j in range(29):\n",
    "        err = float(M_no_parametric_value[i,j] - M_value[i,j])\n",
    "        error += abs(err)\n",
    "print('Total Error Mass Matrices', error)"
   ]
  },
  {
   "cell_type": "code",
   "execution_count": 8,
   "metadata": {},
   "outputs": [
    {
     "name": "stdout",
     "output_type": "stream",
     "text": [
      "Total error centroidal momentum matrix 7.446574127987592e-13\n"
     ]
    }
   ],
   "source": [
    "J_cmm_no_parameric = kinDynNoParametric.centroidal_momentum_matrix_fun()\n",
    "J_cmm_no_parameric_value = J_cmm_no_parameric(H_b,s)\n",
    "J_cmm_parametric_no_link = kynDynParam_NoLink.centroidal_momentum_matrix_fun()\n",
    "# J_cmm_no_parameric_value = J_cmm_parametric_no_link(H_b,s,density,lenght_multiplier)\n",
    "J_cmm_value = J_cmm(H_b,s,density, lenght_multiplier)\n",
    "error = 0 \n",
    "for i in range(6):\n",
    "    for j in range (29): \n",
    "        err = float(J_cmm_no_parameric_value[i,j] - J_cmm_value[i,j])\n",
    "        error += abs(err)\n",
    "print(\"Total error centroidal momentum matrix\", error)\n",
    "\n"
   ]
  },
  {
   "cell_type": "markdown",
   "metadata": {},
   "source": [
    "### Total mass"
   ]
  },
  {
   "cell_type": "code",
   "execution_count": 9,
   "metadata": {},
   "outputs": [
    {
     "name": "stdout",
     "output_type": "stream",
     "text": [
      "mass:\n",
      " 62.5739\n"
     ]
    }
   ],
   "source": [
    "mass = kinDyn.get_total_mass()\n",
    "print('mass:\\n',mass(density, lenght_multiplier))"
   ]
  },
  {
   "cell_type": "code",
   "execution_count": 10,
   "metadata": {},
   "outputs": [
    {
     "name": "stdout",
     "output_type": "stream",
     "text": [
      "error mass 0.0\n"
     ]
    }
   ],
   "source": [
    "mass_no_param = kinDynNoParametric.get_total_mass()\n",
    "mass_param_no_link = kynDynParam_NoLink.get_total_mass()\n",
    "# mass_no_param = mass_param_no_link(density,lenght_multiplier)\n",
    "mass = kinDyn.get_total_mass()\n",
    "mass_value = mass(density, lenght_multiplier)\n",
    "error = float(mass_no_param-mass_value)\n",
    "print(\"error mass\", error)"
   ]
  },
  {
   "cell_type": "markdown",
   "metadata": {},
   "source": [
    "### Forward Kinematics"
   ]
  },
  {
   "cell_type": "code",
   "execution_count": 11,
   "metadata": {},
   "outputs": [
    {
     "name": "stdout",
     "output_type": "stream",
     "text": [
      "H left sole :\n",
      " @1=0, \n",
      "[[0.62561, 0.332075, 0.705931, 1.75912], \n",
      " [0.492949, 0.533079, -0.687625, 2.23997], \n",
      " [-0.60466, 0.778173, 0.169804, -1.77283], \n",
      " [@1, @1, @1, 1]]\n"
     ]
    }
   ],
   "source": [
    "H = kinDyn.forward_kinematics_fun('l_lower_leg')\n",
    "print('H left sole :\\n', H(H_b, s, density, lenght_multiplier))"
   ]
  },
  {
   "cell_type": "code",
   "execution_count": 12,
   "metadata": {},
   "outputs": [
    {
     "name": "stdout",
     "output_type": "stream",
     "text": [
      "total error for the whole kin chain 6.982470157623766e-13\n"
     ]
    }
   ],
   "source": [
    "\n",
    "error_tot = 0 \n",
    "for item in kinDyn.robot_desc.link_map:\n",
    "    if(kinDyn.robot_desc.link_map[item].inertial is not None):\n",
    "        H = kinDyn.forward_kinematics_fun(item)\n",
    "        H_no_param = kinDynNoParametric.forward_kinematics_fun(item)\n",
    "        H_link_no_param = kynDynParam_NoLink.forward_kinematics_fun(item)\n",
    "        H_no_param_value = H_no_param(H_b, s)\n",
    "        # H_no_param_value = H_link_no_param(H_b,s,density,lenght_multiplier)\n",
    "        H_value = H(H_b, s, density,lenght_multiplier)\n",
    "        error = 0 \n",
    "        for i in range(4):\n",
    "            for j in range(4):\n",
    "                err = float(H_value[i,j]- H_no_param_value[i,j])\n",
    "                error+= abs(err)\n",
    "        error_tot += error\n",
    "        # print(\"error forward kinematic\",item, \" \", error)\n",
    "print(\"total error for the whole kin chain\", error_tot)"
   ]
  },
  {
   "cell_type": "markdown",
   "metadata": {},
   "source": [
    "### Center of Mass"
   ]
  },
  {
   "cell_type": "code",
   "execution_count": 13,
   "metadata": {},
   "outputs": [
    {
     "name": "stdout",
     "output_type": "stream",
     "text": [
      "CoM:\n",
      " [2.00615, 2.34927, -1.92541]\n"
     ]
    }
   ],
   "source": [
    "com = kinDyn.CoM_position_fun()\n",
    "print('CoM:\\n',com(H_b, s, density, lenght_multiplier))"
   ]
  },
  {
   "cell_type": "markdown",
   "metadata": {},
   "source": [
    "### Jacobian"
   ]
  },
  {
   "cell_type": "code",
   "execution_count": 14,
   "metadata": {},
   "outputs": [
    {
     "name": "stdout",
     "output_type": "stream",
     "text": [
      "error CoM 2.220446049250313e-16\n"
     ]
    }
   ],
   "source": [
    "CoM_no_param = kinDynNoParametric.CoM_position_fun()\n",
    "CoM_param_no_link = kynDynParam_NoLink.CoM_position_fun()\n",
    "\n",
    "CoM_no_param_value = CoM_no_param(H_b,s)\n",
    "# CoM_no_param_value = CoM_param_no_link(H_b,s,density, lenght_multiplier)\n",
    "CoM_value = com(H_b, s, density, lenght_multiplier)\n",
    "error = 0\n",
    "for i in range(3):\n",
    "    err = float(CoM_no_param_value[i] - CoM_value[i])\n",
    "    error+= abs(err)\n",
    "print(\"error CoM\", error)"
   ]
  },
  {
   "cell_type": "code",
   "execution_count": 15,
   "metadata": {},
   "outputs": [
    {
     "name": "stdout",
     "output_type": "stream",
     "text": [
      "Jacobian left sole\n",
      " @1=1, @2=0, \n",
      "[[@1, @2, @2, @2, 0.109618, -0.183376, @2, @2, @2, @2, @2, @2, @2, @2, @2, @2, @2, 0.128596, -0.199569, 0.0737475, 0.157854, 0.00229521, 0.0301411, @2, @2, @2, @2, @2, @2], \n",
      " [@2, @1, @2, -0.109618, @2, -0.521129, @2, @2, @2, @2, @2, @2, @2, @2, @2, @2, @2, 0.14742, -0.491233, 0.102492, 0.211364, -0.0851748, 0.0349179, @2, @2, @2, @2, @2, @2], \n",
      " [@2, @2, @1, 0.183376, 0.521129, @2, @2, @2, @2, @2, @2, @2, @2, @2, @2, @2, @2, 0.461043, 0.247582, 0.176853, -0.212155, 0.0573687, 0.0469243, @2, @2, @2, @2, @2, @2], \n",
      " [@2, @2, @2, @1, @2, @2, @2, @2, @2, @2, @2, @2, @2, @2, @2, @2, @2, -0.19329, 0.350123, 0.936314, -0.332075, 0.332075, -0.231828, @2, @2, @2, @2, @2, @2], \n",
      " [@2, @2, @2, @2, @1, @2, @2, @2, @2, @2, @2, @2, @2, @2, @2, @2, @2, 0.948889, 0.304259, -0.0864085, -0.533079, 0.533079, 0.845809, @2, @2, @2, @2, @2, @2], \n",
      " [@2, @2, @2, @2, @2, @1, @2, @2, @2, @2, @2, @2, @2, @2, @2, @2, @2, -0.249497, 0.885912, -0.340366, -0.778173, 0.778173, -0.480483, @2, @2, @2, @2, @2, @2]]\n"
     ]
    }
   ],
   "source": [
    "J = kinDyn.jacobian_fun('l_sole')\n",
    "print('Jacobian left sole\\n',J(H_b, s, density, lenght_multiplier))"
   ]
  },
  {
   "cell_type": "code",
   "execution_count": 16,
   "metadata": {},
   "outputs": [
    {
     "name": "stdout",
     "output_type": "stream",
     "text": [
      "error whole kin chain jacobian 0\n"
     ]
    }
   ],
   "source": [
    "error_tot = 0 \n",
    "for item in kinDyn.robot_desc.link_map:\n",
    "    if(kinDyn.robot_desc.link_map[item].inertial is not None):\n",
    "        J_no_param = kinDynNoParametric.jacobian_fun(item)\n",
    "        J_param_no_link = kynDynParam_NoLink.jacobian_fun(item)\n",
    "        # J_no_param_value = J_param_no_link(H_b, s,density,lenght_multiplier)\n",
    "        J_no_param_value = J_no_param(H_b, s)\n",
    "        J_value = J(H_b,s, density, lenght_multiplier)\n",
    "        error = 0 \n",
    "        for i in range(6): \n",
    "            for j in range(29): \n",
    "                err = float(J_no_param_value[i,j]- J_value[i,j])\n",
    "                error+ - abs(err)\n",
    "        error_tot += error\n",
    "        # print(\"error Jacobian\", error)\n",
    "print(\"error whole kin chain jacobian\", error)"
   ]
  },
  {
   "cell_type": "markdown",
   "metadata": {},
   "source": [
    "### Relative Jacobian"
   ]
  },
  {
   "cell_type": "code",
   "execution_count": 17,
   "metadata": {},
   "outputs": [
    {
     "name": "stdout",
     "output_type": "stream",
     "text": [
      "Jacobian left sole relative:  \n",
      "[[0, 0, 0, 0, 0, 0, 0, 0, 0, 0, 0, 0.488752, 0.101007, 0.200608, -0.142124, 0.0330524, 0.0557178, 0, 0, 0, 0, 0, 0], \n",
      " [0, 0, 0, 0, 0, 0, 0, 0, 0, 0, 0, 0, 0.489322, -0.0388744, -0.222982, 0.0955784, -0.0155998, 0, 0, 0, 0, 0, 0], \n",
      " [0, 0, 0, 0, 0, 0, 0, 0, 0, 0, 0, 0.109325, -0.304624, 0.0739283, 0.211382, -0.0179858, 0.0313339, 0, 0, 0, 0, 0, 0], \n",
      " [0, 0, 0, 0, 0, 0, 0, 0, 0, 0, 0, 0, 0.949181, -0.309701, -0.904574, 0.904574, -0.2514, 0, 0, 0, 0, 0, 0], \n",
      " [0, 0, 0, 0, 0, 0, 0, 0, 0, 0, 0, -1, 0, 0.178052, 0.247494, -0.247494, -0.967267, 0, 0, 0, 0, 0, 0], \n",
      " [0, 0, 0, 0, 0, 0, 0, 0, 0, 0, 0, 0, 0.31473, 0.934014, -0.34712, 0.34712, -0.0345218, 0, 0, 0, 0, 0, 0]]\n"
     ]
    }
   ],
   "source": [
    "J_r = kinDyn.relative_jacobian_fun('l_sole')\n",
    "print('Jacobian left sole relative: ', J_r(s,density, lenght_multiplier))"
   ]
  },
  {
   "cell_type": "code",
   "execution_count": 36,
   "metadata": {},
   "outputs": [
    {
     "name": "stdout",
     "output_type": "stream",
     "text": [
      "error whole kin chain relative jacobian 0.0\n"
     ]
    }
   ],
   "source": [
    "error_tot = 0\n",
    "for item in kinDyn.robot_desc.link_map:\n",
    "    if(kinDyn.robot_desc.link_map[item].inertial is not None):\n",
    "        J_r_no_param = kinDynNoParametric.relative_jacobian_fun('l_sole')\n",
    "        J_r_param_no_link = kynDynParam_NoLink.relative_jacobian_fun('l_sole')\n",
    "        J_r_no_param_value = J_r_no_param(s)\n",
    "        # J_r_no_param_value = J_r_param_no_link(s,density,lenght_multiplier)\n",
    "        J_value = J_r(s, density, lenght_multiplier)\n",
    "        error = 0 \n",
    "        for i in range(6): \n",
    "            for j in range(23):\n",
    "                err = float(J_value[i,j] - J_r_no_param_value[i,j])\n",
    "                error += abs(err)\n",
    "        error_tot += error\n",
    "        # print(\"error relative jacobian\", error)\n",
    "print(\"error whole kin chain relative jacobian\", error_tot)"
   ]
  },
  {
   "cell_type": "code",
   "execution_count": 37,
   "metadata": {},
   "outputs": [
    {
     "name": "stdout",
     "output_type": "stream",
     "text": [
      "tau: \n",
      " [-29.0485, -39.1108, 591.87, 58.1481, 13.8899, -10.4976, 39.4674, 16.6687, 6.67221, 0.10654, 0.516076, 0.0764306, -1.11119, 4.28331, 1.98516, -0.0765226, -1.11005, 51.2712, 16.0727, 12.3119, -10.2667, 1.37228, 9.41598, 6.89902, -12.3027, 12.0212, -9.53551, 1.81583, -1.37282]\n"
     ]
    }
   ],
   "source": [
    "tau = kinDyn.rnea()\n",
    "print('tau: \\n', tau(H_b, s, v_b, s_dot, gravity, density, lenght_multiplier))"
   ]
  },
  {
   "cell_type": "code",
   "execution_count": 38,
   "metadata": {},
   "outputs": [
    {
     "name": "stdout",
     "output_type": "stream",
     "text": [
      "tau error 2.1236346015029994e-12\n"
     ]
    }
   ],
   "source": [
    "tau_no_parametric = kinDynNoParametric.rnea()\n",
    "tau_parametric_no_link =kynDynParam_NoLink.rnea()\n",
    "tau_no_parametric_value = tau_no_parametric(H_b, s, v_b, s_dot, gravity)\n",
    "# tau_no_parametric_value = tau_parametric_no_link(H_b,s, v_b, s_dot, gravity,density,lenght_multiplier)\n",
    "tau_value = tau(H_b, s, v_b, s_dot, gravity, density,  lenght_multiplier)\n",
    "\n",
    "error = 0 \n",
    "for i in range(29):\n",
    "    err = float (tau_value[i] - tau_no_parametric_value[i])\n",
    "    error += abs(err)\n",
    "\n",
    "print(\"tau error\", error)"
   ]
  },
  {
   "cell_type": "code",
   "execution_count": 39,
   "metadata": {},
   "outputs": [
    {
     "name": "stdout",
     "output_type": "stream",
     "text": [
      "Bias force term:\n",
      " [-29.0485, -39.1108, 591.87, 58.1481, 13.8899, -10.4976, 39.4674, 16.6687, 6.67221, 0.10654, 0.516076, 0.0764306, -1.11119, 4.28331, 1.98516, -0.0765226, -1.11005, 51.2712, 16.0727, 12.3119, -10.2667, 1.37228, 9.41598, 6.89902, -12.3027, 12.0212, -9.53551, 1.81583, -1.37282]\n"
     ]
    }
   ],
   "source": [
    "h = kinDyn.bias_force_fun()\n",
    "print('Bias force term:\\n', SX2DM(h(H_b, s, v_b, s_dot, density, lenght_multiplier)))"
   ]
  },
  {
   "cell_type": "code",
   "execution_count": 40,
   "metadata": {},
   "outputs": [
    {
     "name": "stdout",
     "output_type": "stream",
     "text": [
      "bias forces error 0.0\n"
     ]
    }
   ],
   "source": [
    "h_no_param = kinDynNoParametric.bias_force_fun()\n",
    "H_param_no_link= kynDynParam_NoLink.bias_force_fun()\n",
    "h_no_param_values = H_param_no_link(H_b,s,v_b,s_dot,density,lenght_multiplier)\n",
    "# h_no_param_values = h_no_param(H_b,s,v_b,s_dot)\n",
    "h_value = h(H_b,s,v_b,s_dot,density,lenght_multiplier)\n",
    "error = 0\n",
    "for i in range(29): \n",
    "    err = float(h_value[i]- h_no_param_values[i])\n",
    "    error += abs(err)\n",
    "print(\"bias forces error\", error)"
   ]
  },
  {
   "cell_type": "code",
   "execution_count": 41,
   "metadata": {},
   "outputs": [
    {
     "name": "stdout",
     "output_type": "stream",
     "text": [
      "Coriolis force term:\n",
      " [-29.0485, -39.1108, -21.7703, -5.91367, 17.9405, -10.4976, -4.60601, 2.82983, 3.73844, 1.65141, -0.264752, -0.0670193, -0.784092, 1.93812, -2.66984, 0.174215, -0.308823, 12.8441, -1.81793, 3.02014, -0.378731, 0.298746, 8.68097, 1.98228, -0.306164, 2.07712, -0.607938, 0.500264, -0.620515]\n"
     ]
    }
   ],
   "source": [
    "C = kinDyn.coriolis_term_fun()\n",
    "print('Coriolis force term:\\n', SX2DM(C(H_b, s, v_b, s_dot, density, lenght_multiplier)))"
   ]
  },
  {
   "cell_type": "code",
   "execution_count": 42,
   "metadata": {},
   "outputs": [
    {
     "name": "stdout",
     "output_type": "stream",
     "text": [
      "Coriolis error 2.3010343630502916e-12\n"
     ]
    }
   ],
   "source": [
    "C_no_param = kinDynNoParametric.coriolis_term_fun()\n",
    "C_param_no_link = kynDynParam_NoLink.coriolis_term_fun()\n",
    "# C_no_param_value = C_param_no_link(H_b,s,v_b,s_dot,density,lenght_multiplier)\n",
    "C_no_param_value = C_no_param(H_b,s,v_b, s_dot)\n",
    "C_value = C(H_b, s,v_b,s_dot,density,lenght_multiplier)\n",
    "error = 0 \n",
    "for i in range(29): \n",
    "    err = float(C_no_param_value[i] - C_value[i])\n",
    "    error+= abs(err)\n",
    "print(\"Coriolis error\", error)"
   ]
  },
  {
   "cell_type": "code",
   "execution_count": 43,
   "metadata": {},
   "outputs": [
    {
     "name": "stdout",
     "output_type": "stream",
     "text": [
      "Gravity term:\n",
      " [-2.13163e-14, -5.50671e-14, 613.64, 64.0618, -4.05066, -1.77636e-15, 44.0734, 13.8389, 2.93377, -1.54487, 0.780829, 0.14345, -0.327099, 2.34519, 4.65499, -0.250738, -0.801223, 38.4271, 17.8907, 9.29175, -9.88796, 1.07353, 0.735004, 4.91674, -11.9965, 9.94404, -8.92758, 1.31556, -0.752309]\n"
     ]
    }
   ],
   "source": [
    "G = kinDyn.gravity_term_fun()\n",
    "print('Gravity term:\\n', SX2DM(G(H_b, s, density, lenght_multiplier)))"
   ]
  },
  {
   "cell_type": "code",
   "execution_count": 44,
   "metadata": {},
   "outputs": [
    {
     "name": "stdout",
     "output_type": "stream",
     "text": [
      "gravity term error 2.317923630812402e-12\n"
     ]
    }
   ],
   "source": [
    "G_no_param = kinDynNoParametric.gravity_term_fun()\n",
    "G_param_no_link = kynDynParam_NoLink.gravity_term_fun()\n",
    "G_no_param_value = G_no_param(H_b,s)\n",
    "# G_no_param_value = G_param_no_link(H_b,s,density,lenght_multiplier)\n",
    "G_value = G(H_b,s,density,lenght_multiplier)\n",
    "error = 0 \n",
    "for i in range(29): \n",
    "    err = float(G_no_param_value[i]-G_value[i])\n",
    "    error += abs(err)\n",
    "print(\"gravity term error\", error)"
   ]
  },
  {
   "cell_type": "markdown",
   "metadata": {},
   "source": [
    "### Cylinder Link "
   ]
  },
  {
   "cell_type": "code",
   "execution_count": 45,
   "metadata": {},
   "outputs": [
    {
     "name": "stdout",
     "output_type": "stream",
     "text": [
      "<urdfpy.urdf.Cylinder object at 0x7f5c1319e4c0>\n",
      "****************ORIGINAL LINK******************\n",
      "radius= 0.065\n",
      "length= 0.2\n",
      "origin= [-0.02       -0.015      -0.13        0.          0.         -1.57079633]\n",
      "volume= 0.002654645792283376\n",
      "mass= 5.66584\n",
      "density= 2134.3111071426842\n",
      "inertia xx= 0.02487067683333334\n",
      "inertia yy= 0.02487067683333334\n",
      "inertia zz= 0.011969087000000002\n",
      "****************PARAMETRIC LINK****************\n",
      "radius= 0.065\n",
      "length= 0.2\n",
      "origin= @1=0, [-0.02, -0.015, -0.13, @1, @1, -1.5708]\n",
      "volume= 0.00265465\n",
      "mass= 5.66584\n",
      "density= 2134.3111071426842\n",
      "inertia xx= 0.0248707\n",
      "inertia yy= 0.0248707\n",
      "inertia zz= 0.0119691\n"
     ]
    }
   ],
   "source": [
    "link_original = kinDyn.get_element_by_name('l_lower_leg', kinDyn.robot)\n",
    "r_hip_r_char = linkParametric.LinkCharacteristics(-0.03)\n",
    "print(link_original.visuals[0].geometry.cylinder)\n",
    "length = link_original.visuals[0].geometry.cylinder.length \n",
    "radius = link_original.visuals[0].geometry.cylinder.radius\n",
    "volume = math.pi*radius**2*length\n",
    "mass = link_original.inertial.mass\n",
    "density_num = mass/volume\n",
    "print('****************ORIGINAL LINK******************')\n",
    "print('radius=', radius)\n",
    "print('length=', length)\n",
    "print('origin=',matrix_to_xyz_rpy(link_original.inertial.origin))\n",
    "print('volume=', volume)\n",
    "print('mass=', mass)\n",
    "print('density=', density_num)\n",
    "print('inertia xx=', link_original.inertial.inertia[0,0])\n",
    "print('inertia yy=', link_original.inertial.inertia[1,1])\n",
    "print('inertia zz=', link_original.inertial.inertia[2,2])\n",
    "link_parametric =linkParametric.linkParametric('l_lower_leg', 1.0,density_num, kinDyn.robot, link_original, r_hip_r_char)\n",
    "print('****************PARAMETRIC LINK****************')\n",
    "print('radius=', link_parametric.visual_data_new[1])\n",
    "print('length=', link_parametric.visual_data_new[0])\n",
    "print('origin=', link_parametric.origin)\n",
    "print('volume=', link_parametric.volume)\n",
    "print('mass=', link_parametric.mass)\n",
    "print('density=', link_parametric.density)\n",
    "print('inertia xx=', link_parametric.I.ixx)\n",
    "print('inertia yy=', link_parametric.I.iyy)\n",
    "print('inertia zz=', link_parametric.I.izz)\n"
   ]
  },
  {
   "cell_type": "markdown",
   "metadata": {},
   "source": [
    "### Cylinder Link Parametric"
   ]
  },
  {
   "cell_type": "code",
   "execution_count": 46,
   "metadata": {},
   "outputs": [
    {
     "name": "stdout",
     "output_type": "stream",
     "text": [
      "****************PARAMETRIC LINK****************\n",
      "radius= 0.065\n",
      "length= (0.2*l_m)\n",
      "origin= @1=0, [-0.02, -0.015, (-0.03-((0.2*l_m)/2)), @1, @1, -1.5708]\n",
      "volume= (0.0132732*(0.2*l_m))\n",
      "mass= ((0.0132732*(0.2*l_m))*rho)\n",
      "density= rho\n",
      "inertia xx= @1=(0.2*l_m), (((0.0132732*@1)*rho)*((0.012675+sq(@1))/12))\n",
      "inertia yy= @1=(0.2*l_m), (((0.0132732*@1)*rho)*((0.012675+sq(@1))/12))\n",
      "inertia zz= ((0.004225*((0.0132732*(0.2*l_m))*rho))/2)\n"
     ]
    }
   ],
   "source": [
    "rho = cs.SX.sym('rho', 1)\n",
    "l_m = cs.SX.sym('l_m',1)\n",
    "link_parametric =linkParametric.linkParametric('l_lower_leg', l_m,rho, kinDyn.robot, link_original, r_hip_r_char)\n",
    "print('****************PARAMETRIC LINK****************')\n",
    "print('radius=', link_parametric.visual_data_new[1])\n",
    "print('length=', link_parametric.visual_data_new[0])\n",
    "print('origin=', link_parametric.origin)\n",
    "print('volume=', link_parametric.volume)\n",
    "print('mass=', link_parametric.mass)\n",
    "print('density=', link_parametric.density)\n",
    "print('inertia xx=', link_parametric.I.ixx)\n",
    "print('inertia yy=', link_parametric.I.iyy)\n",
    "print('inertia zz=', link_parametric.I.izz)"
   ]
  },
  {
   "cell_type": "markdown",
   "metadata": {},
   "source": [
    "### Box Link "
   ]
  },
  {
   "cell_type": "code",
   "execution_count": 47,
   "metadata": {},
   "outputs": [
    {
     "name": "stdout",
     "output_type": "stream",
     "text": [
      "****************ORIGINAL LINK******************\n",
      "width= 0.2041\n",
      "depth= 0.2092\n",
      "height= 0.2152\n",
      "origin= [ 0.          0.          0.091388    0.          0.         -1.57079633]\n",
      "volume= 0.009188549344000001\n",
      "mass= 5.75757\n",
      "density= 626.6027187152905\n",
      "inertia xx= 0.0432180860748\n",
      "inertia yy= 0.04098499815637501\n",
      "inertia zz= 0.042206754510375005\n",
      "****************PARAMETRIC LINK****************\n",
      "width= 0.2041\n",
      "depth= 0.2092\n",
      "height= 0.2152\n",
      "origin= [ 0.          0.          0.091388    0.          0.         -1.57079633]\n",
      "volume= 0.00918855\n",
      "mass= 5.75757\n",
      "density= 626.6027187152905\n",
      "inertia xx= 0.0432181\n",
      "inertia yy= 0.040985\n",
      "inertia zz= 0.0422068\n"
     ]
    }
   ],
   "source": [
    "link_original = kinDyn.get_element_by_name('chest', kinDyn.robot)\n",
    "chest_char = linkParametric.LinkCharacteristics(0.0, linkParametric.Side.DEPTH, False, False)\n",
    "\n",
    "width = link_original.visuals[0].geometry.box.size[0]\n",
    "depth = link_original.visuals[0].geometry.box.size[2]\n",
    "height = link_original.visuals[0].geometry.box.size[1]\n",
    "\n",
    "volume = width*depth*height\n",
    "mass = link_original.inertial.mass\n",
    "density_num = mass/volume\n",
    "print('****************ORIGINAL LINK******************')\n",
    "print('width=', width)\n",
    "print('depth=', depth)\n",
    "print('height=', height)\n",
    "print('origin=',matrix_to_xyz_rpy(link_original.inertial.origin))\n",
    "print('volume=', volume)\n",
    "print('mass=', mass)\n",
    "print('density=', density_num)\n",
    "print('inertia xx=', link_original.inertial.inertia[0,0])\n",
    "print('inertia yy=', link_original.inertial.inertia[1,1])\n",
    "print('inertia zz=', link_original.inertial.inertia[2,2])\n",
    "\n",
    "link_parametric =linkParametric.linkParametric('chest', 1.0,density_num, kinDyn.robot, link_original, chest_char)\n",
    "print('****************PARAMETRIC LINK****************')\n",
    "print('width=', link_parametric.visual_data_new[0])\n",
    "print('depth=', link_parametric.visual_data_new[2])\n",
    "print('height=', link_parametric.visual_data_new[1])\n",
    "print('origin=', link_parametric.origin)\n",
    "print('volume=', link_parametric.volume)\n",
    "print('mass=', link_parametric.mass)\n",
    "print('density=', link_parametric.density)\n",
    "print('inertia xx=', link_parametric.I.ixx)\n",
    "print('inertia yy=', link_parametric.I.iyy)\n",
    "print('inertia zz=', link_parametric.I.izz)\n"
   ]
  },
  {
   "cell_type": "markdown",
   "metadata": {},
   "source": [
    "### Box Link Parametric"
   ]
  },
  {
   "cell_type": "code",
   "execution_count": 48,
   "metadata": {},
   "outputs": [
    {
     "name": "stdout",
     "output_type": "stream",
     "text": [
      "****************PARAMETRIC LINK****************\n",
      "width= 0.2041\n",
      "depth= (0.2092*l_m)\n",
      "height= 0.2152\n",
      "origin= [ 0.          0.          0.091388    0.          0.         -1.57079633]\n",
      "volume= (0.0439223*(0.2092*l_m))\n",
      "mass= ((0.0439223*(0.2092*l_m))*rho)\n",
      "density= rho\n",
      "inertia xx= @1=(0.2092*l_m), ((((0.0439223*@1)*rho)*(0.046311+sq(@1)))/12)\n",
      "inertia yy= @1=(0.2092*l_m), ((((0.0439223*@1)*rho)*(0.0416568+sq(@1)))/12)\n",
      "inertia zz= ((0.0879679*((0.0439223*(0.2092*l_m))*rho))/12)\n"
     ]
    }
   ],
   "source": [
    "rho = cs.SX.sym('rho', 1)\n",
    "l_m = cs.SX.sym('l_m',1)\n",
    "link_parametric =linkParametric.linkParametric('chest', l_m,rho, kinDyn.robot, link_original, chest_char)\n",
    "print('****************PARAMETRIC LINK****************')\n",
    "print('width=', link_parametric.visual_data_new[0])\n",
    "print('depth=', link_parametric.visual_data_new[2])\n",
    "print('height=', link_parametric.visual_data_new[1])\n",
    "print('origin=', link_parametric.origin)\n",
    "print('volume=', link_parametric.volume)\n",
    "print('mass=', link_parametric.mass)\n",
    "print('density=', link_parametric.density)\n",
    "print('inertia xx=', link_parametric.I.ixx)\n",
    "print('inertia yy=', link_parametric.I.iyy)\n",
    "print('inertia zz=', link_parametric.I.izz)"
   ]
  },
  {
   "cell_type": "markdown",
   "metadata": {},
   "source": [
    "### Sphere Link"
   ]
  },
  {
   "cell_type": "code",
   "execution_count": 49,
   "metadata": {},
   "outputs": [
    {
     "name": "stdout",
     "output_type": "stream",
     "text": [
      "****************ORIGINAL LINK******************\n",
      "radius= 0.04\n",
      "origin= [-0.02        0.         -0.02       -0.07156449 -0.06196999 -1.29535745]\n",
      "volume= 0.00026808257310632905\n",
      "mass= 0.230254\n",
      "density= 858.892084375342\n",
      "inertia xx= 0.01\n",
      "inertia yy= 0.01\n",
      "inertia zz= 0.01\n",
      "****************PARAMETRIC LINK****************\n",
      "radius= 0.04\n",
      "origin= [-0.02        0.         -0.02       -0.07156449 -0.06196999 -1.29535745]\n",
      "volume= 0.00026808257310632905\n",
      "mass= 0.230254\n",
      "density= 858.892084375342\n",
      "inertia xx= 0.00014736256\n",
      "inertia yy= 0.00014736256\n",
      "inertia zz= 0.00014736256\n"
     ]
    }
   ],
   "source": [
    "link_original = kinDyn.get_element_by_name('l_elbow_1', kinDyn.robot)\n",
    "\n",
    "radius = link_original.visuals[0].geometry.sphere.radius\n",
    "\n",
    "volume = 4*(math.pi*radius**3)/3\n",
    "mass = link_original.inertial.mass\n",
    "density_num = mass/volume\n",
    "print('****************ORIGINAL LINK******************')\n",
    "print('radius=', radius)\n",
    "print('origin=',matrix_to_xyz_rpy(link_original.inertial.origin))\n",
    "print('volume=', volume)\n",
    "print('mass=', mass)\n",
    "print('density=', density_num)\n",
    "print('inertia xx=', link_original.inertial.inertia[0,0])\n",
    "print('inertia yy=', link_original.inertial.inertia[1,1])\n",
    "print('inertia zz=', link_original.inertial.inertia[2,2])\n",
    "\n",
    "link_parametric =linkParametric.linkParametric('l_elbow_1', 1.0,density_num, kinDyn.robot, link_original, chest_char)\n",
    "print('****************PARAMETRIC LINK****************')\n",
    "print('radius=', link_parametric.visual_data_new)\n",
    "print('origin=', link_parametric.origin)\n",
    "print('volume=', link_parametric.volume)\n",
    "print('mass=', link_parametric.mass)\n",
    "print('density=', link_parametric.density)\n",
    "print('inertia xx=', link_parametric.I.ixx)\n",
    "print('inertia yy=', link_parametric.I.iyy)\n",
    "print('inertia zz=', link_parametric.I.izz)"
   ]
  },
  {
   "cell_type": "markdown",
   "metadata": {},
   "source": [
    "### Sphere Link Parametric "
   ]
  },
  {
   "cell_type": "code",
   "execution_count": 50,
   "metadata": {},
   "outputs": [
    {
     "name": "stdout",
     "output_type": "stream",
     "text": [
      "****************PARAMETRIC LINK****************\n",
      "radius= (0.04*l_m)\n",
      "origin= [-0.02        0.         -0.02       -0.07156449 -0.06196999 -1.29535745]\n",
      "volume= @1=(0.04*l_m), ((12.5664*(@1*sq(@1)))/3)\n",
      "mass= @1=(0.04*l_m), (((12.5664*(@1*sq(@1)))/3)*rho)\n",
      "density= rho\n",
      "inertia xx= @1=(0.04*l_m), (((2*(((12.5664*(@1*sq(@1)))/3)*rho))*sq(@1))/5)\n",
      "inertia yy= @1=(0.04*l_m), (((2*(((12.5664*(@1*sq(@1)))/3)*rho))*sq(@1))/5)\n",
      "inertia zz= @1=(0.04*l_m), (((2*(((12.5664*(@1*sq(@1)))/3)*rho))*sq(@1))/5)\n"
     ]
    }
   ],
   "source": [
    "rho = cs.SX.sym('rho', 1)\n",
    "l_m = cs.SX.sym('l_m',1)\n",
    "link_original = kinDyn.get_element_by_name('l_elbow_1', kinDyn.robot)\n",
    "link_parametric =linkParametric.linkParametric('l_elbow_1', l_m,rho, kinDyn.robot, link_original)\n",
    "print('****************PARAMETRIC LINK****************')\n",
    "print('radius=', link_parametric.visual_data_new)\n",
    "print('origin=', link_parametric.origin)\n",
    "print('volume=', link_parametric.volume)\n",
    "print('mass=', link_parametric.mass)\n",
    "print('density=', link_parametric.density)\n",
    "print('inertia xx=', link_parametric.I.ixx)\n",
    "print('inertia yy=', link_parametric.I.iyy)\n",
    "print('inertia zz=', link_parametric.I.izz)\n"
   ]
  },
  {
   "cell_type": "code",
   "execution_count": 51,
   "metadata": {},
   "outputs": [
    {
     "name": "stdout",
     "output_type": "stream",
     "text": [
      "[ 0.       -0.0005   -0.255989  0.        0.        0.      ]\n",
      "@1=0, [@1, -0.0005, (-0.055989-(0.2*l_m)), @1, @1, @1]\n"
     ]
    }
   ],
   "source": [
    "r_hip_r_char = linkParametric.LinkCharacteristics(-0.03)\n",
    "r_hip_yaw_char = linkParametric.JointCharacteristics(-0.055989)\n",
    "joint_original = kinDyn.get_joint_by_name('l_ankle_pitch',kinDyn.robot)\n",
    "link_original = kinDyn.get_element_by_name('l_lower_leg', kinDyn.robot)\n",
    "link_parametric =linkParametric.linkParametric('l_lower_leg', l_m,rho, kinDyn.robot, link_original, r_hip_r_char)\n",
    "joint_parametric = linkParametric.jointParametric('l_ankle_pitch', link_parametric, joint_original, r_hip_yaw_char)\n",
    "print(matrix_to_xyz_rpy(joint_original.origin))\n",
    "print(joint_parametric.origin)"
   ]
  },
  {
   "cell_type": "code",
   "execution_count": 52,
   "metadata": {},
   "outputs": [
    {
     "name": "stdout",
     "output_type": "stream",
     "text": [
      "[[0.26013734 0.91572692 0.62387262 0.48513027 0.38359598 0.23940381]\n",
      " [0.09161378 0.55897348 0.07992375 0.18575859 0.62381135 0.88294485]\n",
      " [0.31941291 0.76208279 0.94695524 0.41804689 0.97320584 0.53197286]\n",
      " [0.84225329 0.1748389  0.04545098 0.3641277  0.17383929 0.93780122]\n",
      " [0.04013763 0.68949543 0.68371738 0.71946945 0.69479072 0.32295439]\n",
      " [0.72990134 0.60026471 0.91899363 0.79274674 0.34982961 0.78831506]]\n",
      "[[0.84225329 0.1748389  0.04545098]\n",
      " [0.04013763 0.68949543 0.68371738]\n",
      " [0.72990134 0.60026471 0.91899363]]\n"
     ]
    }
   ],
   "source": [
    "Sc = cs.SX.zeros(6)\n",
    "Sc = np.random.rand(6,6)\n",
    "print(Sc)\n",
    "# print(cs.mtimes(Sc,Sc.T))\n",
    "# print(Sc @ Sc.T)\n",
    "print(Sc[3:,:3])"
   ]
  },
  {
   "cell_type": "code",
   "execution_count": 53,
   "metadata": {},
   "outputs": [
    {
     "name": "stdout",
     "output_type": "stream",
     "text": [
      "@1=1, @2=0, \n",
      "[[@1, 00, 00, @2, @2, @2], \n",
      " [00, @1, 00, @2, @2, @2], \n",
      " [00, 00, @1, @2, @2, @2], \n",
      " [@2, @2, @2, @1, @2, @2], \n",
      " [@2, @2, @2, @2, 2, @2], \n",
      " [@2, @2, @2, @2, @2, 3]]\n",
      "[[ 1.  0.  0.  0.  0. -0.]\n",
      " [ 0.  1.  0. -0.  0.  0.]\n",
      " [ 0.  0.  1.  0. -0.  0.]\n",
      " [ 0. -0.  0.  1.  0.  0.]\n",
      " [ 0.  0. -0.  0.  2.  0.]\n",
      " [-0.  0.  0.  0.  0.  3.]]\n"
     ]
    }
   ],
   "source": [
    "I = linkParametric.I_parametric(); \n",
    "I.ixx = 1\n",
    "I.iyy = 2\n",
    "I.izz = 3\n",
    "\n",
    "I_float = np.zeros([3,3])\n",
    "I_float[0,0] = 1 \n",
    "I_float[1,1] = 2 \n",
    "I_float[2,2] = 3\n",
    "\n",
    "a = utils.spatial_inertial_with_parameter(I,1,[0,0,0], [0,0,0])\n",
    "b = utils.spatial_inertia(I_float, 1,[0,0,0], [0,0,0])\n",
    "\n",
    "print(a)\n",
    "print(b)"
   ]
  }
 ],
 "metadata": {
  "interpreter": {
   "hash": "916dbcbb3f70747c44a77c7bcd40155683ae19c65e1c03b4aa3499c5328201f1"
  },
  "kernelspec": {
   "display_name": "Python 3.8.10 64-bit",
   "name": "python3"
  },
  "language_info": {
   "codemirror_mode": {
    "name": "ipython",
    "version": 3
   },
   "file_extension": ".py",
   "mimetype": "text/x-python",
   "name": "python",
   "nbconvert_exporter": "python",
   "pygments_lexer": "ipython3",
   "version": "3.8.10"
  },
  "metadata": {
   "interpreter": {
    "hash": "1aaa65760776477b200513a4708dfe8112d71af684253b4518b287658553a52c"
   }
  },
  "orig_nbformat": 3
 },
 "nbformat": 4,
 "nbformat_minor": 2
}
