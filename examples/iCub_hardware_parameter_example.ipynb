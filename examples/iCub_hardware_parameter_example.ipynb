{
 "cells": [
  {
   "cell_type": "code",
   "execution_count": null,
   "metadata": {},
   "outputs": [],
   "source": [
    "from adam.core.computations import KinDynComputations\n",
    "from adam.geometry import utils\n",
    "import numpy as np\n",
    "import casadi as cs\n",
    "import math\n",
    "import gym_ignition_models\n",
    "from adam.core.computationsWithHardwareParameters import  KinDynComputationsWithHardwareParameters\n",
    "from adam.geometry import linkParametric\n",
    "from urdfpy import xyz_rpy_to_matrix, matrix_to_xyz_rpy"
   ]
  },
  {
   "cell_type": "code",
   "execution_count": null,
   "metadata": {},
   "outputs": [],
   "source": [
    "def SX2DM(sx):\n",
    "    return cs.DM(sx)"
   ]
  },
  {
   "cell_type": "markdown",
   "metadata": {},
   "source": []
  },
  {
   "cell_type": "code",
   "execution_count": null,
   "metadata": {},
   "outputs": [],
   "source": [
    "\n",
    "urdf_path =\"/home/carlotta/iit_ws/ergocub-gazebo-simulations/models/stickBot/model.urdf\"\n",
    "urdf_path_old = gym_ignition_models.get_model_file(\"iCubGazeboV2_5\")\n",
    "# The joint list\n",
    "joints_name_list = [\n",
    "    'torso_pitch', 'torso_roll', 'torso_yaw', 'l_shoulder_pitch',\n",
    "    'l_shoulder_roll', 'l_shoulder_yaw', 'l_elbow', 'r_shoulder_pitch',\n",
    "    'r_shoulder_roll', 'r_shoulder_yaw', 'r_elbow', 'l_hip_pitch', 'l_hip_roll',\n",
    "    'l_hip_yaw', 'l_knee', 'l_ankle_pitch', 'l_ankle_roll', 'r_hip_pitch',\n",
    "    'r_hip_roll', 'r_hip_yaw', 'r_knee', 'r_ankle_pitch', 'r_ankle_roll'\n",
    "]\n",
    "link_name_list = ['r_hip_3']\n",
    "r_hip_r_char = linkParametric.LinkCharacteristics(0.0)\n",
    "r_hip_yaw_char = linkParametric.JointCharacteristics(0.1451)\n",
    "\n",
    "link_characteristics = {'r_hip_3': r_hip_r_char}\n",
    "joint_characteristics = {'r_hip_yaw': r_hip_yaw_char}\n",
    "print(joint_characteristics.items())\n",
    "root_link = 'root_link'\n",
    "kinDyn =KinDynComputationsWithHardwareParameters(urdf_path, joints_name_list,link_name_list, root_link, link_characteristics)"
   ]
  },
  {
   "cell_type": "markdown",
   "metadata": {},
   "source": []
  },
  {
   "cell_type": "markdown",
   "metadata": {},
   "source": []
  },
  {
   "cell_type": "code",
   "execution_count": null,
   "metadata": {},
   "outputs": [],
   "source": [
    "# Set joints and base informations\n",
    "xyz = (np.random.rand(3) - 0.5) * 5\n",
    "rpy = (np.random.rand(3) - 0.5) * 5\n",
    "H_b = utils.H_from_PosRPY(xyz, rpy)\n",
    "v_b = (np.random.rand(6) - 0.5) * 5\n",
    "s = (np.random.rand(len(joints_name_list)) - 0.5) * 5\n",
    "s_dot = (np.random.rand(len(joints_name_list)) - 0.5) * 5\n",
    "density =np.random.rand(len(link_name_list))  \n",
    "lenght_multiplier = np.random.rand(len(link_name_list))\n",
    "gravity =np.array([0, 0, -9.80665, 0, 0, 0])"
   ]
  },
  {
   "cell_type": "code",
   "execution_count": null,
   "metadata": {},
   "outputs": [],
   "source": [
    "[M, J_cmm] = kinDyn.crba()\n",
    "M = kinDyn.mass_matrix_fun() \n",
    "J_cmm = kinDyn.centroidal_momentum_matrix_fun()\n",
    "print(\"M\", M(H_b, s, density, lenght_multiplier))\n",
    "print(\"J_cmm\",J_cmm(H_b, s, density, lenght_multiplier))"
   ]
  },
  {
   "cell_type": "code",
   "execution_count": null,
   "metadata": {},
   "outputs": [],
   "source": [
    "mass = kinDyn.get_total_mass()\n",
    "print('mass:\\n',mass(density, lenght_multiplier))"
   ]
  },
  {
   "cell_type": "code",
   "execution_count": null,
   "metadata": {},
   "outputs": [],
   "source": [
    "H = kinDyn.forward_kinematics_fun('l_sole')\n",
    "print('H left sole :\\n', H(H_b, s, density, lenght_multiplier))"
   ]
  },
  {
   "cell_type": "code",
   "execution_count": null,
   "metadata": {},
   "outputs": [],
   "source": [
    "com = kinDyn.CoM_position_fun()\n",
    "print('CoM:\\n',com(H_b, s, density, lenght_multiplier))"
   ]
  },
  {
   "cell_type": "code",
   "execution_count": null,
   "metadata": {},
   "outputs": [],
   "source": [
    "J = kinDyn.jacobian_fun('l_sole')\n",
    "print('Jacobian left sole\\n',J(H_b, s, density, lenght_multiplier))"
   ]
  },
  {
   "cell_type": "code",
   "execution_count": null,
   "metadata": {},
   "outputs": [],
   "source": [
    "J_r = kinDyn.relative_jacobian_fun('l_sole')\n",
    "print('Jacobian left sole relative: ', J_r(s,density, lenght_multiplier))"
   ]
  },
  {
   "cell_type": "code",
   "execution_count": null,
   "metadata": {},
   "outputs": [],
   "source": [
    "tau = kinDyn.rnea()\n",
    "print('tau: \\n', tau(H_b, s, v_b, s_dot, gravity, density, lenght_multiplier))"
   ]
  },
  {
   "cell_type": "code",
   "execution_count": null,
   "metadata": {},
   "outputs": [],
   "source": [
    "h = kinDyn.bias_force_fun()\n",
    "print('Bias force term:\\n', SX2DM(h(H_b, s, v_b, s_dot, density, lenght_multiplier)))"
   ]
  },
  {
   "cell_type": "code",
   "execution_count": null,
   "metadata": {},
   "outputs": [],
   "source": [
    "C = kinDyn.coriolis_term_fun()\n",
    "print('Coriolis force term:\\n', SX2DM(C(H_b, s, v_b, s_dot, density, lenght_multiplier)))"
   ]
  },
  {
   "cell_type": "code",
   "execution_count": null,
   "metadata": {},
   "outputs": [],
   "source": [
    "G = kinDyn.gravity_term_fun()\n",
    "print('Gravity term:\\n', SX2DM(G(H_b, s, density, lenght_multiplier)))"
   ]
  },
  {
   "cell_type": "code",
   "execution_count": null,
   "metadata": {},
   "outputs": [],
   "source": [
    "link_original = kinDyn.get_element_by_name('r_hip_3', kinDyn.robot)\n",
    "r_hip_r_char = linkParametric.LinkCharacteristics(0.0)\n",
    "print(link_original.visuals[0].geometry.cylinder)\n",
    "length = link_original.visuals[0].geometry.cylinder.length \n",
    "radius = link_original.visuals[0].geometry.cylinder.radius\n",
    "volume = math.pi*radius**2*length\n",
    "mass = link_original.inertial.mass\n",
    "density_num = mass/volume\n",
    "print('radius\\n', radius)\n",
    "print('lenggth\\n', length)\n",
    "print('origin\\n',matrix_to_xyz_rpy(link_original.inertial.origin))\n",
    "# print('volum\\n', volume)\n",
    "print('mass\\n', mass)\n",
    "# print('density\\n', density_num)\n",
    "print('inertia\\n', link_original.inertial.inertia)\n",
    "link_parametric =linkParametric.linkParametric('r_hip_3', 1.0,density_num, kinDyn.robot, link_original, r_hip_r_char)\n",
    "print('Link Parametric')\n",
    "print('radius \\n', link_parametric.visual_data_new[1])\n",
    "print('length\\n', link_parametric.visual_data_new[0])\n",
    "# print('origin\\n', link_parametric.origin)\n",
    "# print('volume\\n', link_parametric.volume)\n",
    "print('mass\\n', link_parametric.mass)\n",
    "print('density\\n', link_parametric.density)\n",
    "print('inertia\\n', link_parametric.I.ixx)\n",
    "print('inertia\\n', link_parametric.I.iyy)\n",
    "print('inertia\\n', link_parametric.I.izz)"
   ]
  }
 ],
 "metadata": {
  "interpreter": {
   "hash": "916dbcbb3f70747c44a77c7bcd40155683ae19c65e1c03b4aa3499c5328201f1"
  },
  "kernelspec": {
   "display_name": "Python 3.8.10 64-bit",
   "name": "python3"
  },
  "language_info": {
   "codemirror_mode": {
    "name": "ipython",
    "version": 3
   },
   "file_extension": ".py",
   "mimetype": "text/x-python",
   "name": "python",
   "nbconvert_exporter": "python",
   "pygments_lexer": "ipython3",
   "version": "3.8.10"
  },
  "metadata": {
   "interpreter": {
    "hash": "1aaa65760776477b200513a4708dfe8112d71af684253b4518b287658553a52c"
   }
  },
  "orig_nbformat": 3
 },
 "nbformat": 4,
 "nbformat_minor": 2
}
