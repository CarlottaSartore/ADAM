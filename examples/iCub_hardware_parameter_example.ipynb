{
 "cells": [
  {
   "cell_type": "code",
   "execution_count": 99,
   "metadata": {},
   "outputs": [],
   "source": [
    "from adam.core.computations import KinDynComputations\n",
    "from adam.geometry import utils\n",
    "import numpy as np\n",
    "import casadi as cs\n",
    "import math\n",
    "import gym_ignition_models\n",
    "from adam.core.computationsWithHardwareParameters import  KinDynComputationsWithHardwareParameters\n",
    "from adam.geometry import linkParametric\n",
    "from urdfpy import xyz_rpy_to_matrix, matrix_to_xyz_rpy"
   ]
  },
  {
   "cell_type": "code",
   "execution_count": 100,
   "metadata": {},
   "outputs": [],
   "source": [
    "def SX2DM(sx):\n",
    "    return cs.DM(sx)"
   ]
  },
  {
   "cell_type": "markdown",
   "metadata": {},
   "source": [
    "# Loading the model "
   ]
  },
  {
   "cell_type": "code",
   "execution_count": 101,
   "metadata": {},
   "outputs": [
    {
     "name": "stdout",
     "output_type": "stream",
     "text": [
      "{'l_ankle_pitch': <adam.geometry.linkParametric.JointCharacteristics object at 0x7fe3a4b06850>}\n"
     ]
    },
    {
     "name": "stderr",
     "output_type": "stream",
     "text": [
      "Unknown tag: sensor\n",
      "Unknown tag: sensor\n",
      "Unknown tag: sensor\n",
      "Unknown tag: sensor\n",
      "Unknown tag: sensor\n",
      "Unknown tag: sensor\n",
      "Unknown tag: sensor\n",
      "Unknown tag: sensor\n",
      "Unknown tag: sensor\n",
      "Unknown tag: sensor\n",
      "Unknown tag: sensor\n",
      "Unknown tag: sensor\n",
      "Unknown tag: sensor\n",
      "Unknown tag: sensor\n",
      "Unknown tag: sensor\n",
      "Unknown tag: sensor\n",
      "Unknown tag: sensor\n",
      "Unknown tag: sensor\n",
      "Unknown tag: sensor\n",
      "Unknown tag: sensor\n",
      "Unknown tag: sensor\n",
      "Unknown tag: sensor\n",
      "Unknown tag: sensor\n",
      "Unknown tag: sensor\n",
      "Unknown tag: sensor\n",
      "Unknown tag: sensor\n",
      "Unknown tag: sensor\n",
      "Unknown tag: sensor\n",
      "Unknown tag: sensor\n",
      "Unknown tag: sensor\n"
     ]
    }
   ],
   "source": [
    "\n",
    "urdf_path =\"/home/carlotta/iit_ws/ergocub-gazebo-simulations/models/stickBot/model.urdf\"\n",
    "urdf_path_old = gym_ignition_models.get_model_file(\"iCubGazeboV2_5\")\n",
    "# The joint list\n",
    "joints_name_list = [\n",
    "    'torso_pitch', 'torso_roll', 'torso_yaw', 'l_shoulder_pitch',\n",
    "    'l_shoulder_roll', 'l_shoulder_yaw', 'l_elbow', 'r_shoulder_pitch',\n",
    "    'r_shoulder_roll', 'r_shoulder_yaw', 'r_elbow', 'l_hip_pitch', 'l_hip_roll',\n",
    "    'l_hip_yaw', 'l_knee', 'l_ankle_pitch', 'l_ankle_roll', 'r_hip_pitch',\n",
    "    'r_hip_roll', 'r_hip_yaw', 'r_knee', 'r_ankle_pitch', 'r_ankle_roll'\n",
    "]\n",
    "link_name_list = ['l_lower_leg']\n",
    "link_name_list_empty  = []\n",
    "r_hip_r_char = linkParametric.LinkCharacteristics(-0.03)\n",
    "r_hip_yaw_char = linkParametric.JointCharacteristics(-0.055989)\n",
    "link_name = 'l_lower_leg'\n",
    "link_characteristics = {link_name: r_hip_r_char}\n",
    "joint_characteristics = {'l_ankle_pitch': r_hip_yaw_char}\n",
    "print(joint_characteristics)\n",
    "root_link = 'root_link'\n",
    "kinDyn =KinDynComputationsWithHardwareParameters(urdf_path, joints_name_list,link_name_list, root_link, link_characteristics, joint_characteristics)\n",
    "\n",
    "kinDynNoParametric = KinDynComputations(urdf_path,joints_name_list, root_link)\n",
    "kynDynParam_NoLink = KinDynComputationsWithHardwareParameters(urdf_path, joints_name_list, link_name_list_empty, root_link)\n"
   ]
  },
  {
   "cell_type": "markdown",
   "metadata": {},
   "source": [
    "### Variable definition"
   ]
  },
  {
   "cell_type": "code",
   "execution_count": 102,
   "metadata": {},
   "outputs": [],
   "source": [
    "# Set joints and base informations\n",
    "link_original = kinDyn.get_element_by_name(link_name, kinDyn.robot)\n",
    "r_hip_r_char = linkParametric.LinkCharacteristics(0.058)\n",
    "length = link_original.visuals[0].geometry.cylinder.length \n",
    "radius = link_original.visuals[0].geometry.cylinder.radius\n",
    "volume = math.pi*radius**2*length\n",
    "mass = link_original.inertial.mass\n",
    "density_num = mass/volume\n",
    "\n",
    "xyz = (np.random.rand(3) - 0.5) * 5\n",
    "rpy = (np.random.rand(3) - 0.5) * 5\n",
    "H_b = utils.H_from_PosRPY(xyz, rpy)\n",
    "v_b = (np.random.rand(6) - 0.5) * 5\n",
    "s = (np.random.rand(len(joints_name_list)) - 0.5) * 5\n",
    "s_dot = (np.random.rand(len(joints_name_list)) - 0.5) * 5\n",
    "density =density_num \n",
    "lenght_multiplier = 1\n",
    "gravity =np.array([0, 0, -9.80665, 0, 0, 0])"
   ]
  },
  {
   "cell_type": "markdown",
   "metadata": {},
   "source": [
    "### Mass and Centroidal Matrix "
   ]
  },
  {
   "cell_type": "markdown",
   "metadata": {},
   "source": []
  },
  {
   "cell_type": "markdown",
   "metadata": {},
   "source": []
  },
  {
   "cell_type": "code",
   "execution_count": 103,
   "metadata": {},
   "outputs": [],
   "source": [
    "[M, J_cmm] = kinDyn.crba()\n",
    "M = kinDyn.mass_matrix_fun() \n",
    "J_cmm = kinDyn.centroidal_momentum_matrix_fun()\n",
    "\n",
    "# print(\"M\", M(H_b, s, density, lenght_multiplier))\n",
    "# print(\"J_cmm\",J_cmm(H_b, s, density, lenght_multiplier))"
   ]
  },
  {
   "cell_type": "code",
   "execution_count": 104,
   "metadata": {},
   "outputs": [],
   "source": [
    "M_no_parametric = kinDynNoParametric.mass_matrix_fun()\n",
    "M_parametric_no_link = kynDynParam_NoLink.mass_matrix_fun()\n",
    "# M_no_parametric_value = M_no_parametric(H_b, s)\n",
    "M_no_parametric_value = M_parametric_no_link(H_b,s,density,lenght_multiplier)\n",
    "M_value = M(H_b, s, density, lenght_multiplier)\n",
    "# print(\"M\", M_no_parametric(H_b, s,density, lenght_multiplier))\n",
    "\n"
   ]
  },
  {
   "cell_type": "code",
   "execution_count": 105,
   "metadata": {},
   "outputs": [
    {
     "name": "stdout",
     "output_type": "stream",
     "text": [
      "Total Error Mass Matrices 0.0\n"
     ]
    }
   ],
   "source": [
    "error = 0 \n",
    "for i in range(29):\n",
    "    for j in range(29):\n",
    "        err = float(M_no_parametric_value[i,j] - M_value[i,j])\n",
    "        error += abs(err)\n",
    "print('Total Error Mass Matrices', error)"
   ]
  },
  {
   "cell_type": "code",
   "execution_count": 134,
   "metadata": {},
   "outputs": [
    {
     "name": "stdout",
     "output_type": "stream",
     "text": [
      "Total error centroidal momentum matrix 0.0\n"
     ]
    }
   ],
   "source": [
    "J_cmm_no_parameric = kinDynNoParametric.centroidal_momentum_matrix_fun()\n",
    "# J_cmm_no_parameric_value = J_cmm_no_parameric(H_b,s)\n",
    "J_cmm_parametric_no_link = kynDynParam_NoLink.centroidal_momentum_matrix_fun()\n",
    "J_cmm_no_parameric_value = J_cmm_parametric_no_link(H_b,s,density,lenght_multiplier)\n",
    "J_cmm_value = J_cmm(H_b,s,density, lenght_multiplier)\n",
    "error = 0 \n",
    "for i in range(6):\n",
    "    for j in range (29): \n",
    "        err = float(J_cmm_no_parameric_value[i,j] - J_cmm_value[i,j])\n",
    "        error += abs(err)\n",
    "print(\"Total error centroidal momentum matrix\", error)\n",
    "\n"
   ]
  },
  {
   "cell_type": "markdown",
   "metadata": {},
   "source": [
    "### Total mass"
   ]
  },
  {
   "cell_type": "code",
   "execution_count": 135,
   "metadata": {},
   "outputs": [
    {
     "name": "stdout",
     "output_type": "stream",
     "text": [
      "mass:\n",
      " 62.5739\n"
     ]
    }
   ],
   "source": [
    "mass = kinDyn.get_total_mass()\n",
    "print('mass:\\n',mass(density, lenght_multiplier))"
   ]
  },
  {
   "cell_type": "code",
   "execution_count": 190,
   "metadata": {},
   "outputs": [
    {
     "name": "stdout",
     "output_type": "stream",
     "text": [
      "error mass 0.0\n"
     ]
    }
   ],
   "source": [
    "# mass_no_param = kinDynNoParametric.get_total_mass()\n",
    "mass_param_no_link = kynDynParam_NoLink.get_total_mass()\n",
    "mass_no_param = mass_param_no_link(density,lenght_multiplier)\n",
    "mass = kinDyn.get_total_mass()\n",
    "mass_value = mass(density, lenght_multiplier)\n",
    "error = float(mass_no_param-mass_value)\n",
    "print(\"error mass\", error)"
   ]
  },
  {
   "cell_type": "markdown",
   "metadata": {},
   "source": [
    "### Forward Kinematics"
   ]
  },
  {
   "cell_type": "code",
   "execution_count": 191,
   "metadata": {},
   "outputs": [
    {
     "name": "stdout",
     "output_type": "stream",
     "text": [
      "H left sole :\n",
      " @1=0, \n",
      "[[0.604155, 0.152579, -0.782123, 1.09919], \n",
      " [-0.38145, 0.917115, -0.115739, -0.0121536], \n",
      " [0.699638, 0.368266, 0.612281, -1.2981], \n",
      " [@1, @1, @1, 1]]\n"
     ]
    }
   ],
   "source": [
    "H = kinDyn.forward_kinematics_fun('l_lower_leg')\n",
    "print('H left sole :\\n', H(H_b, s, density, lenght_multiplier))"
   ]
  },
  {
   "cell_type": "code",
   "execution_count": 216,
   "metadata": {},
   "outputs": [
    {
     "name": "stdout",
     "output_type": "stream",
     "text": [
      "error forward kinematic 0.0\n"
     ]
    }
   ],
   "source": [
    "H_no_param = kinDynNoParametric.forward_kinematics_fun('l_lower_leg')\n",
    "H_link_no_param = kynDynParam_NoLink.forward_kinematics_fun('l_lower_leg')\n",
    "# H_no_param_value = H_no_param(H_b, s)\n",
    "H_no_param_value = H_link_no_param(H_b,s,density,lenght_multiplier)\n",
    "H_value = H(H_b, s, density,lenght_multiplier)\n",
    "error = 0 \n",
    "for i in range(4):\n",
    "    for j in range(4):\n",
    "        err = float(H_value[i,j]- H_no_param_value[i,j])\n",
    "        error+= abs(err)\n",
    "\n",
    "print(\"error forward kinematic\", error)"
   ]
  },
  {
   "cell_type": "markdown",
   "metadata": {},
   "source": [
    "### Center of Mass"
   ]
  },
  {
   "cell_type": "code",
   "execution_count": 217,
   "metadata": {},
   "outputs": [
    {
     "name": "stdout",
     "output_type": "stream",
     "text": [
      "CoM:\n",
      " [1.02654, -0.0291284, -1.53071]\n"
     ]
    }
   ],
   "source": [
    "com = kinDyn.CoM_position_fun()\n",
    "print('CoM:\\n',com(H_b, s, density, lenght_multiplier))"
   ]
  },
  {
   "cell_type": "markdown",
   "metadata": {},
   "source": [
    "### Jacobian"
   ]
  },
  {
   "cell_type": "code",
   "execution_count": 278,
   "metadata": {},
   "outputs": [
    {
     "name": "stdout",
     "output_type": "stream",
     "text": [
      "error CoM 0.0\n"
     ]
    }
   ],
   "source": [
    "CoM_no_param = kinDynNoParametric.CoM_position_fun()\n",
    "CoM_param_no_link = kynDynParam_NoLink.CoM_position_fun()\n",
    "\n",
    "# CoM_no_param_value = CoM_no_param(H_b,s)\n",
    "CoM_no_param_value = CoM_param_no_link(H_b,s,density, lenght_multiplier)\n",
    "CoM_value = com(H_b, s, density, lenght_multiplier)\n",
    "error = 0\n",
    "for i in range(3):\n",
    "    err = float(CoM_no_param_value[i] - CoM_value[i])\n",
    "    error+= abs(err)\n",
    "\n",
    "print(\"error CoM\", error)"
   ]
  },
  {
   "cell_type": "code",
   "execution_count": 279,
   "metadata": {},
   "outputs": [
    {
     "name": "stdout",
     "output_type": "stream",
     "text": [
      "Jacobian left sole\n",
      " @1=1, @2=0, \n",
      "[[@1, @2, @2, @2, 0.168588, 0.053836, @2, @2, @2, @2, @2, @2, @2, @2, @2, @2, @2, -0.131508, 0.108725, -0.0145113, 0.0951515, 0.0595055, -0.011769, @2, @2, @2, @2, @2, @2], \n",
      " [@2, @1, @2, -0.168588, @2, 0.389853, @2, @2, @2, @2, @2, @2, @2, @2, @2, @2, @2, 0.0426534, 0.246741, -0.2594, -0.118481, 0.0208336, 0.0629777, @2, @2, @2, @2, @2, @2], \n",
      " [@2, @2, @1, -0.053836, -0.389853, @2, @2, @2, @2, @2, @2, @2, @2, @2, @2, @2, @2, 0.327967, -0.0843164, -0.111908, 0.255637, -0.0765374, 0.0149981, @2, @2, @2, @2, @2, @2], \n",
      " [@2, @2, @2, @1, @2, @2, @2, @2, @2, @2, @2, @2, @2, @2, @2, @2, @2, -0.577216, -0.767053, -0.239715, -0.152579, 0.152579, -0.402712, @2, @2, @2, @2, @2, @2], \n",
      " [@2, @2, @2, @2, @1, @2, @2, @2, @2, @2, @2, @2, @2, @2, @2, @2, @2, -0.806729, 0.482501, 0.395845, -0.917115, 0.917115, -0.282593, @2, @2, @2, @2, @2, @2], \n",
      " [@2, @2, @2, @2, @2, @1, @2, @2, @2, @2, @2, @2, @2, @2, @2, @2, @2, -0.126533, 0.422875, -0.886478, -0.368266, 0.368266, 0.870611, @2, @2, @2, @2, @2, @2]]\n"
     ]
    }
   ],
   "source": [
    "J = kinDyn.jacobian_fun('l_sole')\n",
    "print('Jacobian left sole\\n',J(H_b, s, density, lenght_multiplier))"
   ]
  },
  {
   "cell_type": "code",
   "execution_count": 280,
   "metadata": {},
   "outputs": [
    {
     "name": "stdout",
     "output_type": "stream",
     "text": [
      "error Jacobian 0\n"
     ]
    }
   ],
   "source": [
    "J_no_param = kinDynNoParametric.jacobian_fun('l_sole')\n",
    "J_param_no_link = kynDynParam_NoLink.jacobian_fun('l_sole')\n",
    "J_no_param_value = J_param_no_link(H_b, s,density,lenght_multiplier)\n",
    "# J_no_param_value = J_no_param(H_b, s)\n",
    "J_value = J(H_b,s, density, lenght_multiplier)\n",
    "error = 0 \n",
    "for i in range(6): \n",
    "    for j in range(29): \n",
    "        err = float(J_no_param_value[i,j]- J_value[i,j])\n",
    "        error+ - abs(err)\n",
    "\n",
    "print(\"error Jacobian\", error)"
   ]
  },
  {
   "cell_type": "markdown",
   "metadata": {},
   "source": [
    "### Relative Jacobian"
   ]
  },
  {
   "cell_type": "code",
   "execution_count": 281,
   "metadata": {},
   "outputs": [
    {
     "name": "stdout",
     "output_type": "stream",
     "text": [
      "Jacobian left sole relative:  \n",
      "[[0, 0, 0, 0, 0, 0, 0, 0, 0, 0, 0, 0.0799304, -0.11198, 0.0669841, 0.267631, -0.0171278, -0.0327194, 0, 0, 0, 0, 0, 0], \n",
      " [0, 0, 0, 0, 0, 0, 0, 0, 0, 0, 0, 0, 0.251142, -0.231802, -0.0083125, 0.0414701, 0.0459104, 0, 0, 0, 0, 0, 0], \n",
      " [0, 0, 0, 0, 0, 0, 0, 0, 0, 0, 0, 0.346824, -0.0648057, -0.14766, 0.129408, -0.0884296, 0.033931, 0, 0, 0, 0, 0, 0], \n",
      " [0, 0, 0, 0, 0, 0, 0, 0, 0, 0, 0, 0, -0.500894, -0.863458, 0.188829, -0.188829, 0.391118, 0, 0, 0, 0, 0, 0], \n",
      " [0, 0, 0, 0, 0, 0, 0, 0, 0, 0, 0, -1, 0, 0.0688036, -0.874532, 0.874532, -0.350267, 0, 0, 0, 0, 0, 0], \n",
      " [0, 0, 0, 0, 0, 0, 0, 0, 0, 0, 0, 0, 0.865509, -0.499707, -0.446696, 0.446696, 0.851081, 0, 0, 0, 0, 0, 0]]\n"
     ]
    }
   ],
   "source": [
    "J_r = kinDyn.relative_jacobian_fun('l_sole')\n",
    "print('Jacobian left sole relative: ', J_r(s,density, lenght_multiplier))"
   ]
  },
  {
   "cell_type": "code",
   "execution_count": 282,
   "metadata": {},
   "outputs": [
    {
     "name": "stdout",
     "output_type": "stream",
     "text": [
      "error relative jacobian 0.0\n"
     ]
    }
   ],
   "source": [
    "J_r_no_param = kinDynNoParametric.relative_jacobian_fun('l_sole')\n",
    "J_r_param_no_link = kynDynParam_NoLink.relative_jacobian_fun('l_sole')\n",
    "# J_r_no_param_value = J_r_no_param(s)\n",
    "J_r_no_param_value = J_r_param_no_link(s,density,lenght_multiplier)\n",
    "J_value = J_r(s, density, lenght_multiplier)\n",
    "error = 0 \n",
    "for i in range(6): \n",
    "    for j in range(23):\n",
    "        err = float(J_value[i,j] - J_r_no_param_value[i,j])\n",
    "        error += abs(err)\n",
    "\n",
    "print(\"error relative jacobian\", error)"
   ]
  },
  {
   "cell_type": "code",
   "execution_count": 283,
   "metadata": {},
   "outputs": [
    {
     "name": "stdout",
     "output_type": "stream",
     "text": [
      "tau: \n",
      " [-7.13691, 3.7533, 574.259, -37.172, -25.0059, -7.87716, 1.26442, 33.6507, -5.56242, 0.399048, -2.13561, -0.191787, -1.14309, 0.495309, 0.528967, 0.0343391, 0.947464, 17.057, -3.80483, -8.5189, 6.82618, -0.409421, -1.12478, -11.9652, 18.6853, 4.62383, -4.10115, 6.11813, -0.702574]\n"
     ]
    }
   ],
   "source": [
    "tau = kinDyn.rnea()\n",
    "print('tau: \\n', tau(H_b, s, v_b, s_dot, gravity, density, lenght_multiplier))"
   ]
  },
  {
   "cell_type": "code",
   "execution_count": 300,
   "metadata": {},
   "outputs": [
    {
     "name": "stdout",
     "output_type": "stream",
     "text": [
      "tau error 0.0\n"
     ]
    }
   ],
   "source": [
    "tau_no_parametric = kinDynNoParametric.rnea()\n",
    "tau_parametric_no_link =kynDynParam_NoLink.rnea()\n",
    "# tau_no_parametric_value = tau_no_parametric(H_b, s, v_b, s_dot, gravity)\n",
    "tau_no_parametric_value = tau_parametric_no_link(H_b,s, v_b, s_dot, gravity,density,lenght_multiplier)\n",
    "tau_value = tau(H_b, s, v_b, s_dot, gravity, density,  lenght_multiplier)\n",
    "\n",
    "error = 0 \n",
    "for i in range(29):\n",
    "    err = float (tau_value[i] - tau_no_parametric_value[i])\n",
    "    error += abs(err)\n",
    "\n",
    "print(\"tau error\", error)"
   ]
  },
  {
   "cell_type": "code",
   "execution_count": 301,
   "metadata": {},
   "outputs": [
    {
     "name": "stdout",
     "output_type": "stream",
     "text": [
      "Bias force term:\n",
      " [-7.13691, 3.7533, 574.259, -37.172, -25.0059, -7.87716, 1.26442, 33.6507, -5.56242, 0.399048, -2.13561, -0.191787, -1.14309, 0.495309, 0.528967, 0.0343391, 0.947464, 17.057, -3.80483, -8.5189, 6.82618, -0.409421, -1.12478, -11.9652, 18.6853, 4.62383, -4.10115, 6.11813, -0.702574]\n"
     ]
    }
   ],
   "source": [
    "h = kinDyn.bias_force_fun()\n",
    "print('Bias force term:\\n', SX2DM(h(H_b, s, v_b, s_dot, density, lenght_multiplier)))"
   ]
  },
  {
   "cell_type": "code",
   "execution_count": 316,
   "metadata": {},
   "outputs": [
    {
     "name": "stdout",
     "output_type": "stream",
     "text": [
      "bias forces error 0.0\n"
     ]
    }
   ],
   "source": [
    "h_no_param = kinDynNoParametric.bias_force_fun()\n",
    "H_param_no_link= kynDynParam_NoLink.bias_force_fun()\n",
    "h_no_param_values = H_param_no_link(H_b,s,v_b,s_dot,density,lenght_multiplier)\n",
    "# h_no_param_values = h_no_param(H_b,s,v_b,s_dot)\n",
    "h_value = h(H_b,s,v_b,s_dot,density,lenght_multiplier)\n",
    "error = 0\n",
    "for i in range(29): \n",
    "    err = float(h_value[i]- h_no_param_values[i])\n",
    "    error += abs(err)\n",
    "print(\"bias forces error\", error)"
   ]
  },
  {
   "cell_type": "code",
   "execution_count": 317,
   "metadata": {},
   "outputs": [
    {
     "name": "stdout",
     "output_type": "stream",
     "text": [
      "Coriolis force term:\n",
      " [-7.13691, 3.7533, -39.3808, 6.5126, -1.44435, -7.87716, -10.1086, -1.11528, 0.858614, 0.0655543, 1.28163, 0.141311, -0.798583, -0.882418, -1.17788, 0.422703, -0.517834, -5.8055, -3.74463, -3.56621, -3.96315, 1.07967, -1.35971, 2.61041, -1.77222, 2.14227, -5.85181, 5.61524, -1.13751]\n"
     ]
    }
   ],
   "source": [
    "C = kinDyn.coriolis_term_fun()\n",
    "print('Coriolis force term:\\n', SX2DM(C(H_b, s, v_b, s_dot, density, lenght_multiplier)))"
   ]
  },
  {
   "cell_type": "code",
   "execution_count": 330,
   "metadata": {},
   "outputs": [
    {
     "name": "stdout",
     "output_type": "stream",
     "text": [
      "Coriolis error 0.0\n"
     ]
    }
   ],
   "source": [
    "C_no_param = kinDynNoParametric.coriolis_term_fun()\n",
    "C_param_no_link = kynDynParam_NoLink.coriolis_term_fun()\n",
    "C_no_param_value = C_param_no_link(H_b,s,v_b,s_dot,density,lenght_multiplier)\n",
    "# C_no_param_value = C_no_param(H_b,s,v_b, s_dot)\n",
    "C_value = C(H_b, s,v_b,s_dot,density,lenght_multiplier)\n",
    "error = 0 \n",
    "for i in range(29): \n",
    "    err = float(C_no_param_value[i] - C_value[i])\n",
    "    error+= abs(err)\n",
    "print(\"Coriolis error\", error)"
   ]
  },
  {
   "cell_type": "code",
   "execution_count": 331,
   "metadata": {},
   "outputs": [
    {
     "name": "stdout",
     "output_type": "stream",
     "text": [
      "Gravity term:\n",
      " [0, 1.42109e-14, 613.64, -43.6846, -23.5615, -5.32907e-15, 11.373, 34.7659, -6.42103, 0.333494, -3.41724, -0.333098, -0.344505, 1.37773, 1.70685, -0.388363, 1.4653, 22.8625, -0.0602015, -4.95269, 10.7893, -1.48909, 0.234925, -14.5756, 20.4575, 2.48156, 1.75066, 0.50289, 0.434934]\n"
     ]
    }
   ],
   "source": [
    "G = kinDyn.gravity_term_fun()\n",
    "print('Gravity term:\\n', SX2DM(G(H_b, s, density, lenght_multiplier)))"
   ]
  },
  {
   "cell_type": "code",
   "execution_count": 342,
   "metadata": {},
   "outputs": [
    {
     "name": "stdout",
     "output_type": "stream",
     "text": [
      "gravity term error 0.0\n"
     ]
    }
   ],
   "source": [
    "G_no_param = kinDynNoParametric.gravity_term_fun()\n",
    "G_param_no_link = kynDynParam_NoLink.gravity_term_fun()\n",
    "# G_no_param_value = G_no_param(H_b,s)\n",
    "G_no_param_value = G_param_no_link(H_b,s,density,lenght_multiplier)\n",
    "G_value = G(H_b,s,density,lenght_multiplier)\n",
    "error = 0 \n",
    "for i in range(29): \n",
    "    err = float(G_no_param_value[i]-G_value[i])\n",
    "    error += abs(err)\n",
    "print(\"gravity term error\", error)"
   ]
  },
  {
   "cell_type": "markdown",
   "metadata": {},
   "source": [
    "### Cylinder Link "
   ]
  },
  {
   "cell_type": "code",
   "execution_count": 343,
   "metadata": {},
   "outputs": [
    {
     "name": "stdout",
     "output_type": "stream",
     "text": [
      "<urdfpy.urdf.Cylinder object at 0x7fe3a4bc12b0>\n",
      "****************ORIGINAL LINK******************\n",
      "radius= 0.065\n",
      "length= 0.2\n",
      "origin= [-0.02       -0.015      -0.13        0.          0.         -1.57079633]\n",
      "volume= 0.002654645792283376\n",
      "mass= 5.66584\n",
      "density= 2134.3111071426842\n",
      "inertia xx= 0.02487067683333334\n",
      "inertia yy= 0.02487067683333334\n",
      "inertia zz= 0.011969087000000002\n",
      "****************PARAMETRIC LINK****************\n",
      "radius= 0.065\n",
      "length= 0.2\n",
      "origin= @1=0, [-0.02, -0.015, -0.13, @1, @1, -1.5708]\n",
      "volume= 0.00265465\n",
      "mass= 5.66584\n",
      "density= 2134.3111071426842\n",
      "inertia xx= 0.0248707\n",
      "inertia yy= 0.0248707\n",
      "inertia zz= 0.0119691\n"
     ]
    }
   ],
   "source": [
    "link_original = kinDyn.get_element_by_name('l_lower_leg', kinDyn.robot)\n",
    "r_hip_r_char = linkParametric.LinkCharacteristics(-0.03)\n",
    "print(link_original.visuals[0].geometry.cylinder)\n",
    "length = link_original.visuals[0].geometry.cylinder.length \n",
    "radius = link_original.visuals[0].geometry.cylinder.radius\n",
    "volume = math.pi*radius**2*length\n",
    "mass = link_original.inertial.mass\n",
    "density_num = mass/volume\n",
    "print('****************ORIGINAL LINK******************')\n",
    "print('radius=', radius)\n",
    "print('length=', length)\n",
    "print('origin=',matrix_to_xyz_rpy(link_original.inertial.origin))\n",
    "print('volume=', volume)\n",
    "print('mass=', mass)\n",
    "print('density=', density_num)\n",
    "print('inertia xx=', link_original.inertial.inertia[0,0])\n",
    "print('inertia yy=', link_original.inertial.inertia[1,1])\n",
    "print('inertia zz=', link_original.inertial.inertia[2,2])\n",
    "link_parametric =linkParametric.linkParametric('l_lower_leg', 1.0,density_num, kinDyn.robot, link_original, r_hip_r_char)\n",
    "print('****************PARAMETRIC LINK****************')\n",
    "print('radius=', link_parametric.visual_data_new[1])\n",
    "print('length=', link_parametric.visual_data_new[0])\n",
    "print('origin=', link_parametric.origin)\n",
    "print('volume=', link_parametric.volume)\n",
    "print('mass=', link_parametric.mass)\n",
    "print('density=', link_parametric.density)\n",
    "print('inertia xx=', link_parametric.I.ixx)\n",
    "print('inertia yy=', link_parametric.I.iyy)\n",
    "print('inertia zz=', link_parametric.I.izz)\n"
   ]
  },
  {
   "cell_type": "markdown",
   "metadata": {},
   "source": [
    "### Cylinder Link Parametric"
   ]
  },
  {
   "cell_type": "code",
   "execution_count": 344,
   "metadata": {},
   "outputs": [
    {
     "name": "stdout",
     "output_type": "stream",
     "text": [
      "****************PARAMETRIC LINK****************\n",
      "radius= 0.065\n",
      "length= (0.2*l_m)\n",
      "origin= @1=0, [-0.02, -0.015, (-0.03-((0.2*l_m)/2)), @1, @1, -1.5708]\n",
      "volume= (0.0132732*(0.2*l_m))\n",
      "mass= ((0.0132732*(0.2*l_m))*rho)\n",
      "density= rho\n",
      "inertia xx= @1=(0.2*l_m), (((0.0132732*@1)*rho)*((0.012675+sq(@1))/12))\n",
      "inertia yy= @1=(0.2*l_m), (((0.0132732*@1)*rho)*((0.012675+sq(@1))/12))\n",
      "inertia zz= ((0.004225*((0.0132732*(0.2*l_m))*rho))/2)\n"
     ]
    }
   ],
   "source": [
    "rho = cs.SX.sym('rho', 1)\n",
    "l_m = cs.SX.sym('l_m',1)\n",
    "link_parametric =linkParametric.linkParametric('l_lower_leg', l_m,rho, kinDyn.robot, link_original, r_hip_r_char)\n",
    "print('****************PARAMETRIC LINK****************')\n",
    "print('radius=', link_parametric.visual_data_new[1])\n",
    "print('length=', link_parametric.visual_data_new[0])\n",
    "print('origin=', link_parametric.origin)\n",
    "print('volume=', link_parametric.volume)\n",
    "print('mass=', link_parametric.mass)\n",
    "print('density=', link_parametric.density)\n",
    "print('inertia xx=', link_parametric.I.ixx)\n",
    "print('inertia yy=', link_parametric.I.iyy)\n",
    "print('inertia zz=', link_parametric.I.izz)"
   ]
  },
  {
   "cell_type": "markdown",
   "metadata": {},
   "source": [
    "### Box Link "
   ]
  },
  {
   "cell_type": "code",
   "execution_count": 345,
   "metadata": {},
   "outputs": [
    {
     "name": "stdout",
     "output_type": "stream",
     "text": [
      "****************ORIGINAL LINK******************\n",
      "width= 0.2041\n",
      "depth= 0.2092\n",
      "height= 0.2152\n",
      "origin= [ 0.          0.          0.091388    0.          0.         -1.57079633]\n",
      "volume= 0.009188549344000001\n",
      "mass= 5.75757\n",
      "density= 626.6027187152905\n",
      "inertia xx= 0.0432180860748\n",
      "inertia yy= 0.04098499815637501\n",
      "inertia zz= 0.042206754510375005\n",
      "****************PARAMETRIC LINK****************\n",
      "width= 0.2041\n",
      "depth= 0.2092\n",
      "height= 0.2152\n",
      "origin= [ 0.          0.          0.091388    0.          0.         -1.57079633]\n",
      "volume= 0.00918855\n",
      "mass= 5.75757\n",
      "density= 626.6027187152905\n",
      "inertia xx= 0.0432181\n",
      "inertia yy= 0.040985\n",
      "inertia zz= 0.0422068\n"
     ]
    }
   ],
   "source": [
    "link_original = kinDyn.get_element_by_name('chest', kinDyn.robot)\n",
    "chest_char = linkParametric.LinkCharacteristics(0.0, linkParametric.Side.DEPTH, False, False)\n",
    "\n",
    "width = link_original.visuals[0].geometry.box.size[0]\n",
    "depth = link_original.visuals[0].geometry.box.size[2]\n",
    "height = link_original.visuals[0].geometry.box.size[1]\n",
    "\n",
    "volume = width*depth*height\n",
    "mass = link_original.inertial.mass\n",
    "density_num = mass/volume\n",
    "print('****************ORIGINAL LINK******************')\n",
    "print('width=', width)\n",
    "print('depth=', depth)\n",
    "print('height=', height)\n",
    "print('origin=',matrix_to_xyz_rpy(link_original.inertial.origin))\n",
    "print('volume=', volume)\n",
    "print('mass=', mass)\n",
    "print('density=', density_num)\n",
    "print('inertia xx=', link_original.inertial.inertia[0,0])\n",
    "print('inertia yy=', link_original.inertial.inertia[1,1])\n",
    "print('inertia zz=', link_original.inertial.inertia[2,2])\n",
    "\n",
    "link_parametric =linkParametric.linkParametric('chest', 1.0,density_num, kinDyn.robot, link_original, chest_char)\n",
    "print('****************PARAMETRIC LINK****************')\n",
    "print('width=', link_parametric.visual_data_new[0])\n",
    "print('depth=', link_parametric.visual_data_new[2])\n",
    "print('height=', link_parametric.visual_data_new[1])\n",
    "print('origin=', link_parametric.origin)\n",
    "print('volume=', link_parametric.volume)\n",
    "print('mass=', link_parametric.mass)\n",
    "print('density=', link_parametric.density)\n",
    "print('inertia xx=', link_parametric.I.ixx)\n",
    "print('inertia yy=', link_parametric.I.iyy)\n",
    "print('inertia zz=', link_parametric.I.izz)\n"
   ]
  },
  {
   "cell_type": "markdown",
   "metadata": {},
   "source": [
    "### Box Link Parametric"
   ]
  },
  {
   "cell_type": "code",
   "execution_count": 346,
   "metadata": {},
   "outputs": [
    {
     "name": "stdout",
     "output_type": "stream",
     "text": [
      "****************PARAMETRIC LINK****************\n",
      "width= 0.2041\n",
      "depth= (0.2092*l_m)\n",
      "height= 0.2152\n",
      "origin= [ 0.          0.          0.091388    0.          0.         -1.57079633]\n",
      "volume= (0.0439223*(0.2092*l_m))\n",
      "mass= ((0.0439223*(0.2092*l_m))*rho)\n",
      "density= rho\n",
      "inertia xx= @1=(0.2092*l_m), ((((0.0439223*@1)*rho)*(0.046311+sq(@1)))/12)\n",
      "inertia yy= @1=(0.2092*l_m), ((((0.0439223*@1)*rho)*(0.0416568+sq(@1)))/12)\n",
      "inertia zz= ((0.0879679*((0.0439223*(0.2092*l_m))*rho))/12)\n"
     ]
    }
   ],
   "source": [
    "rho = cs.SX.sym('rho', 1)\n",
    "l_m = cs.SX.sym('l_m',1)\n",
    "link_parametric =linkParametric.linkParametric('chest', l_m,rho, kinDyn.robot, link_original, chest_char)\n",
    "print('****************PARAMETRIC LINK****************')\n",
    "print('width=', link_parametric.visual_data_new[0])\n",
    "print('depth=', link_parametric.visual_data_new[2])\n",
    "print('height=', link_parametric.visual_data_new[1])\n",
    "print('origin=', link_parametric.origin)\n",
    "print('volume=', link_parametric.volume)\n",
    "print('mass=', link_parametric.mass)\n",
    "print('density=', link_parametric.density)\n",
    "print('inertia xx=', link_parametric.I.ixx)\n",
    "print('inertia yy=', link_parametric.I.iyy)\n",
    "print('inertia zz=', link_parametric.I.izz)"
   ]
  },
  {
   "cell_type": "markdown",
   "metadata": {},
   "source": [
    "### Sphere Link"
   ]
  },
  {
   "cell_type": "code",
   "execution_count": 347,
   "metadata": {},
   "outputs": [
    {
     "name": "stdout",
     "output_type": "stream",
     "text": [
      "****************ORIGINAL LINK******************\n",
      "radius= 0.04\n",
      "origin= [-0.02        0.         -0.02       -0.07156449 -0.06196999 -1.29535745]\n",
      "volume= 0.00026808257310632905\n",
      "mass= 0.230254\n",
      "density= 858.892084375342\n",
      "inertia xx= 0.01\n",
      "inertia yy= 0.01\n",
      "inertia zz= 0.01\n",
      "****************PARAMETRIC LINK****************\n",
      "radius= 0.04\n",
      "origin= [-0.02        0.         -0.02       -0.07156449 -0.06196999 -1.29535745]\n",
      "volume= 0.00026808257310632905\n",
      "mass= 0.230254\n",
      "density= 858.892084375342\n",
      "inertia xx= 0.00014736256\n",
      "inertia yy= 0.00014736256\n",
      "inertia zz= 0.00014736256\n"
     ]
    }
   ],
   "source": [
    "link_original = kinDyn.get_element_by_name('l_elbow_1', kinDyn.robot)\n",
    "\n",
    "radius = link_original.visuals[0].geometry.sphere.radius\n",
    "\n",
    "volume = 4*(math.pi*radius**3)/3\n",
    "mass = link_original.inertial.mass\n",
    "density_num = mass/volume\n",
    "print('****************ORIGINAL LINK******************')\n",
    "print('radius=', radius)\n",
    "print('origin=',matrix_to_xyz_rpy(link_original.inertial.origin))\n",
    "print('volume=', volume)\n",
    "print('mass=', mass)\n",
    "print('density=', density_num)\n",
    "print('inertia xx=', link_original.inertial.inertia[0,0])\n",
    "print('inertia yy=', link_original.inertial.inertia[1,1])\n",
    "print('inertia zz=', link_original.inertial.inertia[2,2])\n",
    "\n",
    "link_parametric =linkParametric.linkParametric('l_elbow_1', 1.0,density_num, kinDyn.robot, link_original, chest_char)\n",
    "print('****************PARAMETRIC LINK****************')\n",
    "print('radius=', link_parametric.visual_data_new)\n",
    "print('origin=', link_parametric.origin)\n",
    "print('volume=', link_parametric.volume)\n",
    "print('mass=', link_parametric.mass)\n",
    "print('density=', link_parametric.density)\n",
    "print('inertia xx=', link_parametric.I.ixx)\n",
    "print('inertia yy=', link_parametric.I.iyy)\n",
    "print('inertia zz=', link_parametric.I.izz)"
   ]
  },
  {
   "cell_type": "markdown",
   "metadata": {},
   "source": [
    "### Sphere Link Parametric "
   ]
  },
  {
   "cell_type": "code",
   "execution_count": 348,
   "metadata": {},
   "outputs": [
    {
     "name": "stdout",
     "output_type": "stream",
     "text": [
      "****************PARAMETRIC LINK****************\n",
      "radius= (0.04*l_m)\n",
      "origin= [-0.02        0.         -0.02       -0.07156449 -0.06196999 -1.29535745]\n",
      "volume= @1=(0.04*l_m), ((12.5664*(@1*sq(@1)))/3)\n",
      "mass= @1=(0.04*l_m), (((12.5664*(@1*sq(@1)))/3)*rho)\n",
      "density= rho\n",
      "inertia xx= @1=(0.04*l_m), (((2*(((12.5664*(@1*sq(@1)))/3)*rho))*sq(@1))/5)\n",
      "inertia yy= @1=(0.04*l_m), (((2*(((12.5664*(@1*sq(@1)))/3)*rho))*sq(@1))/5)\n",
      "inertia zz= @1=(0.04*l_m), (((2*(((12.5664*(@1*sq(@1)))/3)*rho))*sq(@1))/5)\n"
     ]
    }
   ],
   "source": [
    "rho = cs.SX.sym('rho', 1)\n",
    "l_m = cs.SX.sym('l_m',1)\n",
    "link_original = kinDyn.get_element_by_name('l_elbow_1', kinDyn.robot)\n",
    "link_parametric =linkParametric.linkParametric('l_elbow_1', l_m,rho, kinDyn.robot, link_original)\n",
    "print('****************PARAMETRIC LINK****************')\n",
    "print('radius=', link_parametric.visual_data_new)\n",
    "print('origin=', link_parametric.origin)\n",
    "print('volume=', link_parametric.volume)\n",
    "print('mass=', link_parametric.mass)\n",
    "print('density=', link_parametric.density)\n",
    "print('inertia xx=', link_parametric.I.ixx)\n",
    "print('inertia yy=', link_parametric.I.iyy)\n",
    "print('inertia zz=', link_parametric.I.izz)\n"
   ]
  },
  {
   "cell_type": "code",
   "execution_count": 349,
   "metadata": {},
   "outputs": [
    {
     "name": "stdout",
     "output_type": "stream",
     "text": [
      "[ 0.       -0.0005   -0.255989  0.        0.        0.      ]\n",
      "@1=0, [@1, -0.0005, (-0.055989-(0.2*l_m)), @1, @1, @1]\n"
     ]
    }
   ],
   "source": [
    "r_hip_r_char = linkParametric.LinkCharacteristics(-0.03)\n",
    "r_hip_yaw_char = linkParametric.JointCharacteristics(-0.055989)\n",
    "joint_original = kinDyn.get_joint_by_name('l_ankle_pitch',kinDyn.robot)\n",
    "link_original = kinDyn.get_element_by_name('l_lower_leg', kinDyn.robot)\n",
    "link_parametric =linkParametric.linkParametric('l_lower_leg', l_m,rho, kinDyn.robot, link_original, r_hip_r_char)\n",
    "joint_parametric = linkParametric.jointParametric('l_ankle_pitch', link_parametric, joint_original, r_hip_yaw_char)\n",
    "print(matrix_to_xyz_rpy(joint_original.origin))\n",
    "print(joint_parametric.origin)"
   ]
  },
  {
   "cell_type": "code",
   "execution_count": 350,
   "metadata": {},
   "outputs": [
    {
     "name": "stdout",
     "output_type": "stream",
     "text": [
      "[[5.17012759e-01 8.63025331e-01 5.46347427e-01 1.02706410e-01\n",
      "  3.80682377e-01 3.41980726e-01]\n",
      " [8.89806935e-02 3.12473227e-01 6.42236809e-01 8.42444325e-01\n",
      "  6.84379506e-01 5.50187349e-01]\n",
      " [5.43444016e-02 5.98487861e-01 4.08155531e-01 9.23948755e-01\n",
      "  1.77184452e-01 4.44683209e-01]\n",
      " [6.79317285e-01 5.50480103e-01 3.11178194e-01 9.98037623e-01\n",
      "  8.71218521e-01 7.63010129e-01]\n",
      " [3.82503206e-01 5.79215755e-01 4.95746457e-01 8.80434427e-01\n",
      "  1.64284763e-01 1.89719799e-01]\n",
      " [6.64495479e-01 2.81804420e-01 3.54977984e-04 7.64985407e-01\n",
      "  6.97814026e-01 6.58903383e-01]]\n",
      "[[6.79317285e-01 5.50480103e-01 3.11178194e-01]\n",
      " [3.82503206e-01 5.79215755e-01 4.95746457e-01]\n",
      " [6.64495479e-01 2.81804420e-01 3.54977984e-04]]\n"
     ]
    }
   ],
   "source": [
    "Sc = cs.SX.zeros(6)\n",
    "Sc = np.random.rand(6,6)\n",
    "print(Sc)\n",
    "# print(cs.mtimes(Sc,Sc.T))\n",
    "# print(Sc @ Sc.T)\n",
    "print(Sc[3:,:3])"
   ]
  },
  {
   "cell_type": "code",
   "execution_count": 351,
   "metadata": {},
   "outputs": [
    {
     "name": "stdout",
     "output_type": "stream",
     "text": [
      "@1=1, @2=0, \n",
      "[[@1, 00, 00, @2, @2, @2], \n",
      " [00, @1, 00, @2, @2, @2], \n",
      " [00, 00, @1, @2, @2, @2], \n",
      " [@2, @2, @2, @1, @2, @2], \n",
      " [@2, @2, @2, @2, 2, @2], \n",
      " [@2, @2, @2, @2, @2, 3]]\n",
      "[[ 1.  0.  0.  0.  0. -0.]\n",
      " [ 0.  1.  0. -0.  0.  0.]\n",
      " [ 0.  0.  1.  0. -0.  0.]\n",
      " [ 0. -0.  0.  1.  0.  0.]\n",
      " [ 0.  0. -0.  0.  2.  0.]\n",
      " [-0.  0.  0.  0.  0.  3.]]\n"
     ]
    }
   ],
   "source": [
    "I = linkParametric.I_parametric(); \n",
    "I.ixx = 1\n",
    "I.iyy = 2\n",
    "I.izz = 3\n",
    "\n",
    "I_float = np.zeros([3,3])\n",
    "I_float[0,0] = 1 \n",
    "I_float[1,1] = 2 \n",
    "I_float[2,2] = 3\n",
    "\n",
    "a = utils.spatial_inertial_with_parameter(I,1,[0,0,0], [0,0,0])\n",
    "b = utils.spatial_inertia(I_float, 1,[0,0,0], [0,0,0])\n",
    "\n",
    "print(a)\n",
    "print(b)"
   ]
  }
 ],
 "metadata": {
  "interpreter": {
   "hash": "916dbcbb3f70747c44a77c7bcd40155683ae19c65e1c03b4aa3499c5328201f1"
  },
  "kernelspec": {
   "display_name": "Python 3.8.10 64-bit",
   "name": "python3"
  },
  "language_info": {
   "codemirror_mode": {
    "name": "ipython",
    "version": 3
   },
   "file_extension": ".py",
   "mimetype": "text/x-python",
   "name": "python",
   "nbconvert_exporter": "python",
   "pygments_lexer": "ipython3",
   "version": "3.8.10"
  },
  "metadata": {
   "interpreter": {
    "hash": "1aaa65760776477b200513a4708dfe8112d71af684253b4518b287658553a52c"
   }
  },
  "orig_nbformat": 3
 },
 "nbformat": 4,
 "nbformat_minor": 2
}
