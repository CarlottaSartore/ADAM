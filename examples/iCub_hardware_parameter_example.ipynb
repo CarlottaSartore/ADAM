{
 "cells": [
  {
   "cell_type": "code",
   "execution_count": 279,
   "metadata": {},
   "outputs": [],
   "source": [
    "from adam.core.computations import KinDynComputations\n",
    "from adam.geometry import utils\n",
    "import numpy as np\n",
    "import casadi as cs\n",
    "import math\n",
    "import gym_ignition_models\n",
    "from adam.core.computationsWithHardwareParameters import  KinDynComputationsWithHardwareParameters\n",
    "from adam.geometry import linkParametric\n",
    "from urdfpy import xyz_rpy_to_matrix, matrix_to_xyz_rpy"
   ]
  },
  {
   "cell_type": "code",
   "execution_count": 280,
   "metadata": {},
   "outputs": [],
   "source": [
    "def SX2DM(sx):\n",
    "    return cs.DM(sx)"
   ]
  },
  {
   "cell_type": "markdown",
   "metadata": {},
   "source": [
    "# Loading the model "
   ]
  },
  {
   "cell_type": "code",
   "execution_count": 281,
   "metadata": {},
   "outputs": [
    {
     "name": "stdout",
     "output_type": "stream",
     "text": [
      "{'l_ankle_pitch': <adam.geometry.linkParametric.JointCharacteristics object at 0x7ff9842f0a30>}\n"
     ]
    },
    {
     "name": "stderr",
     "output_type": "stream",
     "text": [
      "Unknown tag: sensor\n",
      "Unknown tag: sensor\n",
      "Unknown tag: sensor\n",
      "Unknown tag: sensor\n",
      "Unknown tag: sensor\n",
      "Unknown tag: sensor\n",
      "Unknown tag: sensor\n",
      "Unknown tag: sensor\n",
      "Unknown tag: sensor\n",
      "Unknown tag: sensor\n",
      "Unknown tag: sensor\n",
      "Unknown tag: sensor\n",
      "Unknown tag: sensor\n",
      "Unknown tag: sensor\n",
      "Unknown tag: sensor\n",
      "Unknown tag: sensor\n",
      "Unknown tag: sensor\n",
      "Unknown tag: sensor\n",
      "Unknown tag: sensor\n",
      "Unknown tag: sensor\n"
     ]
    }
   ],
   "source": [
    "\n",
    "urdf_path =\"/home/carlotta/iit_ws/ergocub-gazebo-simulations/models/stickBot/model.urdf\"\n",
    "urdf_path_old = gym_ignition_models.get_model_file(\"iCubGazeboV2_5\")\n",
    "# The joint list\n",
    "joints_name_list = [\n",
    "    'torso_pitch', 'torso_roll', 'torso_yaw', 'l_shoulder_pitch',\n",
    "    'l_shoulder_roll', 'l_shoulder_yaw', 'l_elbow', 'r_shoulder_pitch',\n",
    "    'r_shoulder_roll', 'r_shoulder_yaw', 'r_elbow', 'l_hip_pitch', 'l_hip_roll',\n",
    "    'l_hip_yaw', 'l_knee', 'l_ankle_pitch', 'l_ankle_roll', 'r_hip_pitch',\n",
    "    'r_hip_roll', 'r_hip_yaw', 'r_knee', 'r_ankle_pitch', 'r_ankle_roll'\n",
    "]\n",
    "link_name_list = ['l_lower_leg']\n",
    "link_name_list_empty  = []\n",
    "r_hip_r_char = linkParametric.LinkCharacteristics(-0.03)\n",
    "r_hip_yaw_char = linkParametric.JointCharacteristics(-0.055989)\n",
    "link_name = 'l_lower_leg'\n",
    "link_characteristics = {link_name: r_hip_r_char}\n",
    "joint_characteristics = {'l_ankle_pitch': r_hip_yaw_char}\n",
    "print(joint_characteristics)\n",
    "root_link = 'root_link'\n",
    "kinDyn =KinDynComputationsWithHardwareParameters(urdf_path, joints_name_list,link_name_list, root_link, link_characteristics, joint_characteristics)\n",
    "\n",
    "kinDynNoParametric = KinDynComputations(urdf_path,joints_name_list, root_link)\n"
   ]
  },
  {
   "cell_type": "markdown",
   "metadata": {},
   "source": [
    "### Variable definition"
   ]
  },
  {
   "cell_type": "code",
   "execution_count": 282,
   "metadata": {},
   "outputs": [],
   "source": [
    "# Set joints and base informations\n",
    "link_original = kinDyn.get_element_by_name(link_name, kinDyn.robot)\n",
    "r_hip_r_char = linkParametric.LinkCharacteristics(0.058)\n",
    "length = link_original.visuals[0].geometry.cylinder.length \n",
    "radius = link_original.visuals[0].geometry.cylinder.radius\n",
    "volume = math.pi*radius**2*length\n",
    "mass = link_original.inertial.mass\n",
    "density_num = mass/volume\n",
    "\n",
    "xyz = (np.random.rand(3) - 0.5) * 5\n",
    "rpy = (np.random.rand(3) - 0.5) * 5\n",
    "H_b = utils.H_from_PosRPY(xyz, rpy)\n",
    "v_b = (np.random.rand(6) - 0.5) * 5\n",
    "s = (np.random.rand(len(joints_name_list)) - 0.5) * 5\n",
    "s_dot = (np.random.rand(len(joints_name_list)) - 0.5) * 5\n",
    "density =density_num \n",
    "lenght_multiplier = 1\n",
    "gravity =np.array([0, 0, -9.80665, 0, 0, 0])"
   ]
  },
  {
   "cell_type": "markdown",
   "metadata": {},
   "source": [
    "### Mass and Centroidal Matrix "
   ]
  },
  {
   "cell_type": "markdown",
   "metadata": {},
   "source": []
  },
  {
   "cell_type": "markdown",
   "metadata": {},
   "source": []
  },
  {
   "cell_type": "code",
   "execution_count": 283,
   "metadata": {},
   "outputs": [],
   "source": [
    "[M, J_cmm] = kinDyn.crba()\n",
    "M = kinDyn.mass_matrix_fun() \n",
    "J_cmm = kinDyn.centroidal_momentum_matrix_fun()\n",
    "\n",
    "# print(\"M\", M(H_b, s, density, lenght_multiplier))\n",
    "# print(\"J_cmm\",J_cmm(H_b, s, density, lenght_multiplier))"
   ]
  },
  {
   "cell_type": "code",
   "execution_count": 284,
   "metadata": {},
   "outputs": [],
   "source": [
    "M_no_parametric = kinDynNoParametric.mass_matrix_fun()\n",
    "M_no_parametric_value = M_no_parametric(H_b, s)\n",
    "M_value = M(H_b, s, density, lenght_multiplier)\n",
    "# print(\"M\", M_no_parametric(H_b, s,density, lenght_multiplier))\n",
    "\n"
   ]
  },
  {
   "cell_type": "code",
   "execution_count": 285,
   "metadata": {},
   "outputs": [
    {
     "name": "stdout",
     "output_type": "stream",
     "text": [
      "Total Error Mass Matrices 4.922331531091728e-12\n"
     ]
    }
   ],
   "source": [
    "error = 0 \n",
    "for i in range(29):\n",
    "    for j in range(29):\n",
    "        err = float(M_no_parametric_value[i,j] - M_value[i,j])\n",
    "        error += abs(err)\n",
    "print('Total Error Mass Matrices', error)"
   ]
  },
  {
   "cell_type": "code",
   "execution_count": 286,
   "metadata": {},
   "outputs": [
    {
     "name": "stdout",
     "output_type": "stream",
     "text": [
      "Total error centroidal momentum matrix 3.217124947400215e-12\n"
     ]
    }
   ],
   "source": [
    "J_cmm_no_parameric = kinDynNoParametric.centroidal_momentum_matrix_fun()\n",
    "J_cmm_no_parameric_value = J_cmm_no_parameric(H_b,s)\n",
    "J_cmm_value = J_cmm(H_b,s,density, lenght_multiplier)\n",
    "error = 0 \n",
    "for i in range(6):\n",
    "    for j in range (29): \n",
    "        err = float(J_cmm_no_parameric_value[i,j] - J_cmm_value[i,j])\n",
    "        error += abs(err)\n",
    "print(\"Total error centroidal momentum matrix\", error)\n",
    "\n"
   ]
  },
  {
   "cell_type": "markdown",
   "metadata": {},
   "source": [
    "### Total mass"
   ]
  },
  {
   "cell_type": "code",
   "execution_count": 287,
   "metadata": {},
   "outputs": [
    {
     "name": "stdout",
     "output_type": "stream",
     "text": [
      "mass:\n",
      " 62.5739\n"
     ]
    }
   ],
   "source": [
    "mass = kinDyn.get_total_mass()\n",
    "print('mass:\\n',mass(density, lenght_multiplier))"
   ]
  },
  {
   "cell_type": "code",
   "execution_count": 288,
   "metadata": {},
   "outputs": [
    {
     "name": "stdout",
     "output_type": "stream",
     "text": [
      "error mass 0.0\n"
     ]
    }
   ],
   "source": [
    "mass_no_param = kinDynNoParametric.get_total_mass()\n",
    "mass_value = mass(density, lenght_multiplier)\n",
    "error = float(mass_no_param-mass_value)\n",
    "print(\"error mass\", error)"
   ]
  },
  {
   "cell_type": "markdown",
   "metadata": {},
   "source": [
    "### Forward Kinematics"
   ]
  },
  {
   "cell_type": "code",
   "execution_count": 289,
   "metadata": {},
   "outputs": [
    {
     "name": "stdout",
     "output_type": "stream",
     "text": [
      "H left sole :\n",
      " @1=0, \n",
      "[[0.98593, -0.166111, 0.0186687, 0.296073], \n",
      " [0.139883, 0.758754, -0.63618, -0.437346], \n",
      " [0.0915119, 0.629841, 0.771315, -2.36157], \n",
      " [@1, @1, @1, 1]]\n"
     ]
    }
   ],
   "source": [
    "H = kinDyn.forward_kinematics_fun('l_sole')\n",
    "print('H left sole :\\n', H(H_b, s, density, lenght_multiplier))"
   ]
  },
  {
   "cell_type": "code",
   "execution_count": 290,
   "metadata": {},
   "outputs": [
    {
     "name": "stdout",
     "output_type": "stream",
     "text": [
      "error forward kinematic 0.0\n"
     ]
    }
   ],
   "source": [
    "H_no_param = kinDynNoParametric.forward_kinematics_fun('l_sole')\n",
    "H_no_param_value = H_no_param(H_b, s)\n",
    "H_value = H(H_b, s, density,lenght_multiplier)\n",
    "error = 0 \n",
    "for i in range(4):\n",
    "    for j in range(4):\n",
    "        err = float(H_value[i,j]- H_no_param_value[i,j])\n",
    "        error+= abs(err)\n",
    "\n",
    "print(\"error forward kinematic\", error)"
   ]
  },
  {
   "cell_type": "markdown",
   "metadata": {},
   "source": [
    "### Center of Mass"
   ]
  },
  {
   "cell_type": "code",
   "execution_count": 291,
   "metadata": {},
   "outputs": [
    {
     "name": "stdout",
     "output_type": "stream",
     "text": [
      "CoM:\n",
      " [0.186594, -0.293268, -2.33607]\n"
     ]
    }
   ],
   "source": [
    "com = kinDyn.CoM_position_fun()\n",
    "print('CoM:\\n',com(H_b, s, density, lenght_multiplier))"
   ]
  },
  {
   "cell_type": "markdown",
   "metadata": {},
   "source": [
    "### Jacobian"
   ]
  },
  {
   "cell_type": "code",
   "execution_count": 292,
   "metadata": {},
   "outputs": [
    {
     "name": "stdout",
     "output_type": "stream",
     "text": [
      "error CoM 0.00011573823124103044\n"
     ]
    }
   ],
   "source": [
    "CoM_no_param = kinDynNoParametric.CoM_position_fun()\n",
    "CoM_no_param_value = CoM_no_param(H_b,s)\n",
    "CoM_value = com(H_b, s, density, lenght_multiplier)\n",
    "error = 0\n",
    "for i in range(3):\n",
    "    err = float(CoM_no_param_value[i] - CoM_value[i])\n",
    "    error+= abs(err)\n",
    "\n",
    "print(\"error CoM\", error)"
   ]
  },
  {
   "cell_type": "code",
   "execution_count": 293,
   "metadata": {},
   "outputs": [
    {
     "name": "stdout",
     "output_type": "stream",
     "text": [
      "Jacobian left sole\n",
      " @1=1, @2=0, \n",
      "[[@1, @2, @2, @2, -0.049519, 0.151276, @2, @2, @2, @2, @2, @2, @2, @2, @2, @2, @2, -0.0546285, -0.0785708, -0.0317752, 0.176242, -0.0739164, -0.0109301, @2, @2, @2, @2, @2, @2], \n",
      " [@2, @1, @2, 0.049519, @2, 0.186591, @2, @2, @2, @2, @2, @2, @2, @2, @2, @2, @2, -0.0250189, -0.214544, 0.0280053, -0.246504, 0.0125149, 0.049926, @2, @2, @2, @2, @2, @2], \n",
      " [@2, @2, @1, -0.151276, -0.186591, @2, @2, @2, @2, @2, @2, @2, @2, @2, @2, @2, @2, -0.234138, 0.00957791, -0.215236, -0.0132259, -0.0043544, 0.0414435, @2, @2, @2, @2, @2, @2], \n",
      " [@2, @2, @2, @1, @2, @2, @2, @2, @2, @2, @2, @2, @2, @2, @2, @2, @2, 0.59922, -0.50332, 0.0929803, 0.0766768, -0.0766768, 0.98593, @2, @2, @2, @2, @2, @2], \n",
      " [@2, @2, @2, @2, @1, @2, @2, @2, @2, @2, @2, @2, @2, @2, @2, @2, @2, 0.769188, 0.146308, 0.989009, 0.108003, -0.108003, 0.139883, @2, @2, @2, @2, @2, @2], \n",
      " [@2, @2, @2, @2, @2, @1, @2, @2, @2, @2, @2, @2, @2, @2, @2, @2, @2, -0.222001, -0.851624, 0.114958, -0.991189, 0.991189, 0.0915119, @2, @2, @2, @2, @2, @2]]\n"
     ]
    }
   ],
   "source": [
    "J = kinDyn.jacobian_fun('l_sole')\n",
    "print('Jacobian left sole\\n',J(H_b, s, density, lenght_multiplier))"
   ]
  },
  {
   "cell_type": "code",
   "execution_count": 294,
   "metadata": {},
   "outputs": [
    {
     "name": "stdout",
     "output_type": "stream",
     "text": [
      "error Jacobian 0\n"
     ]
    }
   ],
   "source": [
    "J_no_param = kinDynNoParametric.jacobian_fun('l_sole')\n",
    "J_no_param_value = J_no_param(H_b, s)\n",
    "J_value = J(H_b,s, density, lenght_multiplier)\n",
    "error = 0 \n",
    "for i in range(6): \n",
    "    for j in range(29): \n",
    "        err = float(J_no_param_value[i,j]- J_value[i,j])\n",
    "        error+ - abs(err)\n",
    "\n",
    "print(\"error Jacobian\", error)"
   ]
  },
  {
   "cell_type": "markdown",
   "metadata": {},
   "source": [
    "### Relative Jacobian"
   ]
  },
  {
   "cell_type": "code",
   "execution_count": 295,
   "metadata": {},
   "outputs": [
    {
     "name": "stdout",
     "output_type": "stream",
     "text": [
      "Jacobian left sole relative:  \n",
      "[[0, 0, 0, 0, 0, 0, 0, 0, 0, 0, 0, 0.240085, 0.0390649, 0.209228, 0.0324827, 0.0120337, -0.0477241, 0, 0, 0, 0, 0, 0], \n",
      " [0, 0, 0, 0, 0, 0, 0, 0, 0, 0, 0, 0, 0.214232, -0.0502837, 0.081064, 0.0336993, -0.0226524, 0, 0, 0, 0, 0, 0], \n",
      " [0, 0, 0, 0, 0, 0, 0, 0, 0, 0, 0, 0.0281009, -0.069805, 0.0426098, -0.290472, 0.066021, 0.0392291, 0, 0, 0, 0, 0, 0], \n",
      " [0, 0, 0, 0, 0, 0, 0, 0, 0, 0, 0, 0, 0.872644, -0.298829, 0.937069, -0.937069, -0.247139, 0, 0, 0, 0, 0, 0], \n",
      " [0, 0, 0, 0, 0, 0, 0, 0, 0, 0, 0, -1, 0, -0.790929, -0.349066, 0.349066, -0.67807, 0, 0, 0, 0, 0, 0], \n",
      " [0, 0, 0, 0, 0, 0, 0, 0, 0, 0, 0, 0, 0.488357, 0.533978, 0.00737389, -0.00737389, -0.692202, 0, 0, 0, 0, 0, 0]]\n"
     ]
    }
   ],
   "source": [
    "J_r = kinDyn.relative_jacobian_fun('l_sole')\n",
    "print('Jacobian left sole relative: ', J_r(s,density, lenght_multiplier))"
   ]
  },
  {
   "cell_type": "code",
   "execution_count": 296,
   "metadata": {},
   "outputs": [
    {
     "name": "stdout",
     "output_type": "stream",
     "text": [
      "error relative jacobian 25.860947061945392\n"
     ]
    }
   ],
   "source": [
    "J_r_no_param = kinDynNoParametric.relative_jacobian_fun('l_sole')\n",
    "J_r_no_param_value = J_r_no_param(s)\n",
    "J_value = J_r(s, density, lenght_multiplier)\n",
    "error = 0 \n",
    "for i in range(6): \n",
    "    for j in range(23): \n",
    "        err = float(J_value[i,j] - J_no_param_value[i,j])\n",
    "        error += abs(err)\n",
    "\n",
    "print(\"error relative jacobian\", error)"
   ]
  },
  {
   "cell_type": "code",
   "execution_count": 297,
   "metadata": {},
   "outputs": [
    {
     "name": "stdout",
     "output_type": "stream",
     "text": [
      "tau: \n",
      " [15.5089, -38.9359, 662.622, -0.29743, -6.91321, -8.24292, -45.8233, -11.0071, 7.87415, -0.397646, 3.0006, 0.558566, -0.126913, 0.912939, -3.55099, -0.516252, -0.634119, -0.849935, 13.0357, 17.341, 2.99977e-05, -1.11876, -0.438037, 10.9559, -0.149108, -26.8917, -1.48014, 3.34249, 15.4686]\n"
     ]
    }
   ],
   "source": [
    "tau = kinDyn.rnea()\n",
    "print('tau: \\n', tau(H_b, s, v_b, s_dot, gravity, density, lenght_multiplier))"
   ]
  },
  {
   "cell_type": "code",
   "execution_count": 298,
   "metadata": {},
   "outputs": [
    {
     "ename": "ValueError",
     "evalue": "matmul: Input operand 1 does not have enough dimensions (has 0, gufunc core with signature (n?,k),(k,m?)->(n?,m?) requires 1)",
     "output_type": "error",
     "traceback": [
      "\u001b[0;31m---------------------------------------------------------------------------\u001b[0m",
      "\u001b[0;31mValueError\u001b[0m                                Traceback (most recent call last)",
      "\u001b[0;32m/tmp/ipykernel_23336/2251272159.py\u001b[0m in \u001b[0;36m<module>\u001b[0;34m\u001b[0m\n\u001b[0;32m----> 1\u001b[0;31m \u001b[0mtau_no_parametric\u001b[0m \u001b[0;34m=\u001b[0m \u001b[0mkinDynNoParametric\u001b[0m\u001b[0;34m.\u001b[0m\u001b[0mrnea\u001b[0m\u001b[0;34m(\u001b[0m\u001b[0;34m)\u001b[0m\u001b[0;34m\u001b[0m\u001b[0;34m\u001b[0m\u001b[0m\n\u001b[0m\u001b[1;32m      2\u001b[0m \u001b[0;34m\u001b[0m\u001b[0m\n\u001b[1;32m      3\u001b[0m \u001b[0mtau_no_parametric_value\u001b[0m \u001b[0;34m=\u001b[0m \u001b[0mtau_no_parametric\u001b[0m\u001b[0;34m(\u001b[0m\u001b[0mH_b\u001b[0m\u001b[0;34m,\u001b[0m \u001b[0ms\u001b[0m\u001b[0;34m,\u001b[0m \u001b[0mv_b\u001b[0m\u001b[0;34m,\u001b[0m \u001b[0ms_dot\u001b[0m\u001b[0;34m,\u001b[0m \u001b[0mgravity\u001b[0m\u001b[0;34m)\u001b[0m\u001b[0;34m\u001b[0m\u001b[0;34m\u001b[0m\u001b[0m\n\u001b[1;32m      4\u001b[0m \u001b[0mtau_value\u001b[0m \u001b[0;34m=\u001b[0m \u001b[0mtau\u001b[0m\u001b[0;34m(\u001b[0m\u001b[0mH_b\u001b[0m\u001b[0;34m,\u001b[0m \u001b[0ms\u001b[0m\u001b[0;34m,\u001b[0m \u001b[0mv_b\u001b[0m\u001b[0;34m,\u001b[0m \u001b[0ms_dot\u001b[0m\u001b[0;34m,\u001b[0m \u001b[0mgravity\u001b[0m\u001b[0;34m,\u001b[0m \u001b[0mdensity\u001b[0m\u001b[0;34m,\u001b[0m  \u001b[0mlenght_multiplier\u001b[0m\u001b[0;34m)\u001b[0m\u001b[0;34m\u001b[0m\u001b[0;34m\u001b[0m\u001b[0m\n\u001b[1;32m      5\u001b[0m \u001b[0;34m\u001b[0m\u001b[0m\n",
      "\u001b[0;32m~/.local/lib/python3.8/site-packages/adam/core/computations.py\u001b[0m in \u001b[0;36mrnea\u001b[0;34m(self)\u001b[0m\n\u001b[1;32m    512\u001b[0m             \u001b[0mo\u001b[0m \u001b[0;34m=\u001b[0m \u001b[0mlink_i\u001b[0m\u001b[0;34m.\u001b[0m\u001b[0minertial\u001b[0m\u001b[0;34m.\u001b[0m\u001b[0morigin\u001b[0m\u001b[0;34m.\u001b[0m\u001b[0mxyz\u001b[0m\u001b[0;34m\u001b[0m\u001b[0;34m\u001b[0m\u001b[0m\n\u001b[1;32m    513\u001b[0m             \u001b[0mrpy\u001b[0m \u001b[0;34m=\u001b[0m \u001b[0mlink_i\u001b[0m\u001b[0;34m.\u001b[0m\u001b[0minertial\u001b[0m\u001b[0;34m.\u001b[0m\u001b[0morigin\u001b[0m\u001b[0;34m.\u001b[0m\u001b[0mrpy\u001b[0m\u001b[0;34m\u001b[0m\u001b[0;34m\u001b[0m\u001b[0m\n\u001b[0;32m--> 514\u001b[0;31m             \u001b[0mIc\u001b[0m\u001b[0;34m[\u001b[0m\u001b[0mi\u001b[0m\u001b[0;34m]\u001b[0m \u001b[0;34m=\u001b[0m \u001b[0mutils\u001b[0m\u001b[0;34m.\u001b[0m\u001b[0mspatial_inertia\u001b[0m\u001b[0;34m(\u001b[0m\u001b[0mI\u001b[0m\u001b[0;34m,\u001b[0m \u001b[0mmass\u001b[0m\u001b[0;34m,\u001b[0m \u001b[0mo\u001b[0m\u001b[0;34m,\u001b[0m \u001b[0mrpy\u001b[0m\u001b[0;34m)\u001b[0m\u001b[0;34m\u001b[0m\u001b[0;34m\u001b[0m\u001b[0m\n\u001b[0m\u001b[1;32m    515\u001b[0m \u001b[0;34m\u001b[0m\u001b[0m\n\u001b[1;32m    516\u001b[0m             \u001b[0;32mif\u001b[0m \u001b[0mlink_i\u001b[0m\u001b[0;34m.\u001b[0m\u001b[0mname\u001b[0m \u001b[0;34m==\u001b[0m \u001b[0mself\u001b[0m\u001b[0;34m.\u001b[0m\u001b[0mroot_link\u001b[0m\u001b[0;34m:\u001b[0m\u001b[0;34m\u001b[0m\u001b[0;34m\u001b[0m\u001b[0m\n",
      "\u001b[0;32m~/.local/lib/python3.8/site-packages/adam/geometry/utils.py\u001b[0m in \u001b[0;36mspatial_inertia\u001b[0;34m(I, mass, c, rpy)\u001b[0m\n\u001b[1;32m     96\u001b[0m     \u001b[0mR\u001b[0m \u001b[0;34m=\u001b[0m \u001b[0mR_from_RPY\u001b[0m\u001b[0;34m(\u001b[0m\u001b[0mrpy\u001b[0m\u001b[0;34m)\u001b[0m\u001b[0;34m\u001b[0m\u001b[0;34m\u001b[0m\u001b[0m\n\u001b[1;32m     97\u001b[0m     \u001b[0minertia_matrix\u001b[0m \u001b[0;34m=\u001b[0m \u001b[0mI\u001b[0m\u001b[0;34m\u001b[0m\u001b[0;34m\u001b[0m\u001b[0m\n\u001b[0;32m---> 98\u001b[0;31m     \u001b[0mIO\u001b[0m\u001b[0;34m[\u001b[0m\u001b[0;36m3\u001b[0m\u001b[0;34m:\u001b[0m\u001b[0;34m,\u001b[0m \u001b[0;36m3\u001b[0m\u001b[0;34m:\u001b[0m\u001b[0;34m]\u001b[0m \u001b[0;34m=\u001b[0m \u001b[0mR\u001b[0m \u001b[0;34m@\u001b[0m \u001b[0minertia_matrix\u001b[0m \u001b[0;34m@\u001b[0m \u001b[0mR\u001b[0m\u001b[0;34m.\u001b[0m\u001b[0mT\u001b[0m \u001b[0;34m+\u001b[0m \u001b[0mmass\u001b[0m \u001b[0;34m*\u001b[0m \u001b[0mSc\u001b[0m \u001b[0;34m@\u001b[0m \u001b[0mSc\u001b[0m\u001b[0;34m.\u001b[0m\u001b[0mT\u001b[0m\u001b[0;34m\u001b[0m\u001b[0;34m\u001b[0m\u001b[0m\n\u001b[0m\u001b[1;32m     99\u001b[0m     \u001b[0mIO\u001b[0m\u001b[0;34m[\u001b[0m\u001b[0;36m3\u001b[0m\u001b[0;34m:\u001b[0m\u001b[0;34m,\u001b[0m \u001b[0;34m:\u001b[0m\u001b[0;36m3\u001b[0m\u001b[0;34m]\u001b[0m \u001b[0;34m=\u001b[0m \u001b[0mmass\u001b[0m \u001b[0;34m*\u001b[0m \u001b[0mSc\u001b[0m\u001b[0;34m\u001b[0m\u001b[0;34m\u001b[0m\u001b[0m\n\u001b[1;32m    100\u001b[0m     \u001b[0mIO\u001b[0m\u001b[0;34m[\u001b[0m\u001b[0;34m:\u001b[0m\u001b[0;36m3\u001b[0m\u001b[0;34m,\u001b[0m \u001b[0;36m3\u001b[0m\u001b[0;34m:\u001b[0m\u001b[0;34m]\u001b[0m \u001b[0;34m=\u001b[0m \u001b[0mmass\u001b[0m \u001b[0;34m*\u001b[0m \u001b[0mSc\u001b[0m\u001b[0;34m.\u001b[0m\u001b[0mT\u001b[0m\u001b[0;34m\u001b[0m\u001b[0;34m\u001b[0m\u001b[0m\n",
      "\u001b[0;31mValueError\u001b[0m: matmul: Input operand 1 does not have enough dimensions (has 0, gufunc core with signature (n?,k),(k,m?)->(n?,m?) requires 1)"
     ]
    }
   ],
   "source": [
    "tau_no_parametric = kinDynNoParametric.rnea()\n",
    "\n",
    "tau_no_parametric_value = tau_no_parametric(H_b, s, v_b, s_dot, gravity)\n",
    "tau_value = tau(H_b, s, v_b, s_dot, gravity, density,  lenght_multiplier)\n",
    "\n",
    "error = 0 \n",
    "for i in range(29):\n",
    "    err = float (tau_value[i] - tau_no_parametric_value[i])\n",
    "    error += abs(err)\n",
    "\n",
    "print(\"tau error\", error)"
   ]
  },
  {
   "cell_type": "code",
   "execution_count": null,
   "metadata": {},
   "outputs": [],
   "source": [
    "h = kinDyn.bias_force_fun()\n",
    "print('Bias force term:\\n', SX2DM(h(H_b, s, v_b, s_dot, density, lenght_multiplier)))"
   ]
  },
  {
   "cell_type": "code",
   "execution_count": null,
   "metadata": {},
   "outputs": [],
   "source": [
    "C = kinDyn.coriolis_term_fun()\n",
    "print('Coriolis force term:\\n', SX2DM(C(H_b, s, v_b, s_dot, density, lenght_multiplier)))"
   ]
  },
  {
   "cell_type": "code",
   "execution_count": null,
   "metadata": {},
   "outputs": [],
   "source": [
    "G = kinDyn.gravity_term_fun()\n",
    "print('Gravity term:\\n', SX2DM(G(H_b, s, density, lenght_multiplier)))"
   ]
  },
  {
   "cell_type": "markdown",
   "metadata": {},
   "source": [
    "### Cylinder Link "
   ]
  },
  {
   "cell_type": "code",
   "execution_count": null,
   "metadata": {},
   "outputs": [],
   "source": [
    "link_original = kinDyn.get_element_by_name('l_lower_leg', kinDyn.robot)\n",
    "r_hip_r_char = linkParametric.LinkCharacteristics(-0.03)\n",
    "print(link_original.visuals[0].geometry.cylinder)\n",
    "length = link_original.visuals[0].geometry.cylinder.length \n",
    "radius = link_original.visuals[0].geometry.cylinder.radius\n",
    "volume = math.pi*radius**2*length\n",
    "mass = link_original.inertial.mass\n",
    "density_num = mass/volume\n",
    "print('****************ORIGINAL LINK******************')\n",
    "print('radius=', radius)\n",
    "print('length=', length)\n",
    "print('origin=',matrix_to_xyz_rpy(link_original.inertial.origin))\n",
    "print('volume=', volume)\n",
    "print('mass=', mass)\n",
    "print('density=', density_num)\n",
    "print('inertia xx=', link_original.inertial.inertia[0,0])\n",
    "print('inertia yy=', link_original.inertial.inertia[1,1])\n",
    "print('inertia zz=', link_original.inertial.inertia[2,2])\n",
    "link_parametric =linkParametric.linkParametric('l_lower_leg', 1.0,density_num, kinDyn.robot, link_original, r_hip_r_char)\n",
    "print('****************PARAMETRIC LINK****************')\n",
    "print('radius=', link_parametric.visual_data_new[1])\n",
    "print('length=', link_parametric.visual_data_new[0])\n",
    "print('origin=', link_parametric.origin)\n",
    "print('volume=', link_parametric.volume)\n",
    "print('mass=', link_parametric.mass)\n",
    "print('density=', link_parametric.density)\n",
    "print('inertia xx=', link_parametric.I.ixx)\n",
    "print('inertia yy=', link_parametric.I.iyy)\n",
    "print('inertia zz=', link_parametric.I.izz)\n"
   ]
  },
  {
   "cell_type": "markdown",
   "metadata": {},
   "source": [
    "### Cylinder Link Parametric"
   ]
  },
  {
   "cell_type": "code",
   "execution_count": null,
   "metadata": {},
   "outputs": [],
   "source": [
    "rho = cs.SX.sym('rho', 1)\n",
    "l_m = cs.SX.sym('l_m',1)\n",
    "link_parametric =linkParametric.linkParametric('l_lower_leg', l_m,rho, kinDyn.robot, link_original, r_hip_r_char)\n",
    "print('****************PARAMETRIC LINK****************')\n",
    "print('radius=', link_parametric.visual_data_new[1])\n",
    "print('length=', link_parametric.visual_data_new[0])\n",
    "print('origin=', link_parametric.origin)\n",
    "print('volume=', link_parametric.volume)\n",
    "print('mass=', link_parametric.mass)\n",
    "print('density=', link_parametric.density)\n",
    "print('inertia xx=', link_parametric.I.ixx)\n",
    "print('inertia yy=', link_parametric.I.iyy)\n",
    "print('inertia zz=', link_parametric.I.izz)"
   ]
  },
  {
   "cell_type": "markdown",
   "metadata": {},
   "source": [
    "### Box Link "
   ]
  },
  {
   "cell_type": "code",
   "execution_count": null,
   "metadata": {},
   "outputs": [],
   "source": [
    "link_original = kinDyn.get_element_by_name('chest', kinDyn.robot)\n",
    "chest_char = linkParametric.LinkCharacteristics(0.0, linkParametric.Side.DEPTH, False, False)\n",
    "\n",
    "width = link_original.visuals[0].geometry.box.size[0]\n",
    "depth = link_original.visuals[0].geometry.box.size[2]\n",
    "height = link_original.visuals[0].geometry.box.size[1]\n",
    "\n",
    "volume = width*depth*height\n",
    "mass = link_original.inertial.mass\n",
    "density_num = mass/volume\n",
    "print('****************ORIGINAL LINK******************')\n",
    "print('width=', width)\n",
    "print('depth=', depth)\n",
    "print('height=', height)\n",
    "print('origin=',matrix_to_xyz_rpy(link_original.inertial.origin))\n",
    "print('volume=', volume)\n",
    "print('mass=', mass)\n",
    "print('density=', density_num)\n",
    "print('inertia xx=', link_original.inertial.inertia[0,0])\n",
    "print('inertia yy=', link_original.inertial.inertia[1,1])\n",
    "print('inertia zz=', link_original.inertial.inertia[2,2])\n",
    "\n",
    "link_parametric =linkParametric.linkParametric('chest', 1.0,density_num, kinDyn.robot, link_original, chest_char)\n",
    "print('****************PARAMETRIC LINK****************')\n",
    "print('width=', link_parametric.visual_data_new[0])\n",
    "print('depth=', link_parametric.visual_data_new[2])\n",
    "print('height=', link_parametric.visual_data_new[1])\n",
    "print('origin=', link_parametric.origin)\n",
    "print('volume=', link_parametric.volume)\n",
    "print('mass=', link_parametric.mass)\n",
    "print('density=', link_parametric.density)\n",
    "print('inertia xx=', link_parametric.I.ixx)\n",
    "print('inertia yy=', link_parametric.I.iyy)\n",
    "print('inertia zz=', link_parametric.I.izz)\n"
   ]
  },
  {
   "cell_type": "markdown",
   "metadata": {},
   "source": [
    "### Box Link Parametric"
   ]
  },
  {
   "cell_type": "code",
   "execution_count": null,
   "metadata": {},
   "outputs": [],
   "source": [
    "rho = cs.SX.sym('rho', 1)\n",
    "l_m = cs.SX.sym('l_m',1)\n",
    "link_parametric =linkParametric.linkParametric('chest', l_m,rho, kinDyn.robot, link_original, chest_char)\n",
    "print('****************PARAMETRIC LINK****************')\n",
    "print('width=', link_parametric.visual_data_new[0])\n",
    "print('depth=', link_parametric.visual_data_new[2])\n",
    "print('height=', link_parametric.visual_data_new[1])\n",
    "print('origin=', link_parametric.origin)\n",
    "print('volume=', link_parametric.volume)\n",
    "print('mass=', link_parametric.mass)\n",
    "print('density=', link_parametric.density)\n",
    "print('inertia xx=', link_parametric.I.ixx)\n",
    "print('inertia yy=', link_parametric.I.iyy)\n",
    "print('inertia zz=', link_parametric.I.izz)"
   ]
  },
  {
   "cell_type": "markdown",
   "metadata": {},
   "source": [
    "### Sphere Link"
   ]
  },
  {
   "cell_type": "code",
   "execution_count": null,
   "metadata": {},
   "outputs": [],
   "source": [
    "link_original = kinDyn.get_element_by_name('l_elbow_1', kinDyn.robot)\n",
    "\n",
    "radius = link_original.visuals[0].geometry.sphere.radius\n",
    "\n",
    "volume = 4*(math.pi*radius**3)/3\n",
    "mass = link_original.inertial.mass\n",
    "density_num = mass/volume\n",
    "print('****************ORIGINAL LINK******************')\n",
    "print('radius=', radius)\n",
    "print('origin=',matrix_to_xyz_rpy(link_original.inertial.origin))\n",
    "print('volume=', volume)\n",
    "print('mass=', mass)\n",
    "print('density=', density_num)\n",
    "print('inertia xx=', link_original.inertial.inertia[0,0])\n",
    "print('inertia yy=', link_original.inertial.inertia[1,1])\n",
    "print('inertia zz=', link_original.inertial.inertia[2,2])\n",
    "\n",
    "link_parametric =linkParametric.linkParametric('l_elbow_1', 1.0,density_num, kinDyn.robot, link_original, chest_char)\n",
    "print('****************PARAMETRIC LINK****************')\n",
    "print('radius=', link_parametric.visual_data_new)\n",
    "print('origin=', link_parametric.origin)\n",
    "print('volume=', link_parametric.volume)\n",
    "print('mass=', link_parametric.mass)\n",
    "print('density=', link_parametric.density)\n",
    "print('inertia xx=', link_parametric.I.ixx)\n",
    "print('inertia yy=', link_parametric.I.iyy)\n",
    "print('inertia zz=', link_parametric.I.izz)"
   ]
  },
  {
   "cell_type": "markdown",
   "metadata": {},
   "source": [
    "### Sphere Link Parametric "
   ]
  },
  {
   "cell_type": "code",
   "execution_count": null,
   "metadata": {},
   "outputs": [],
   "source": [
    "rho = cs.SX.sym('rho', 1)\n",
    "l_m = cs.SX.sym('l_m',1)\n",
    "link_original = kinDyn.get_element_by_name('l_elbow_1', kinDyn.robot)\n",
    "link_parametric =linkParametric.linkParametric('l_elbow_1', l_m,rho, kinDyn.robot, link_original)\n",
    "print('****************PARAMETRIC LINK****************')\n",
    "print('radius=', link_parametric.visual_data_new)\n",
    "print('origin=', link_parametric.origin)\n",
    "print('volume=', link_parametric.volume)\n",
    "print('mass=', link_parametric.mass)\n",
    "print('density=', link_parametric.density)\n",
    "print('inertia xx=', link_parametric.I.ixx)\n",
    "print('inertia yy=', link_parametric.I.iyy)\n",
    "print('inertia zz=', link_parametric.I.izz)\n"
   ]
  },
  {
   "cell_type": "code",
   "execution_count": null,
   "metadata": {},
   "outputs": [],
   "source": [
    "r_hip_r_char = linkParametric.LinkCharacteristics(-0.03)\n",
    "r_hip_yaw_char = linkParametric.JointCharacteristics(-0.055989)\n",
    "joint_original = kinDyn.get_joint_by_name('l_ankle_pitch',kinDyn.robot)\n",
    "link_original = kinDyn.get_element_by_name('l_lower_leg', kinDyn.robot)\n",
    "link_parametric =linkParametric.linkParametric('l_lower_leg', l_m,rho, kinDyn.robot, link_original, r_hip_r_char)\n",
    "joint_parametric = linkParametric.jointParametric('l_ankle_pitch', link_parametric, joint_original, r_hip_yaw_char)\n",
    "print(matrix_to_xyz_rpy(joint_original.origin))\n",
    "print(joint_parametric.origin)"
   ]
  },
  {
   "cell_type": "code",
   "execution_count": null,
   "metadata": {},
   "outputs": [],
   "source": [
    "Sc = cs.SX.zeros(6)\n",
    "Sc = np.random.rand(6,6)\n",
    "print(Sc)\n",
    "# print(cs.mtimes(Sc,Sc.T))\n",
    "# print(Sc @ Sc.T)\n",
    "print(Sc[3:,:3])"
   ]
  },
  {
   "cell_type": "code",
   "execution_count": null,
   "metadata": {},
   "outputs": [],
   "source": [
    "I = linkParametric.I_parametric(); \n",
    "I.ixx = 1\n",
    "I.iyy = 2\n",
    "I.izz = 3\n",
    "\n",
    "I_float = np.zeros([3,3])\n",
    "I_float[0,0] = 1 \n",
    "I_float[1,1] = 2 \n",
    "I_float[2,2] = 3\n",
    "\n",
    "a = utils.spatial_inertial_with_parameter(I,1,[0,0,0], [0,0,0])\n",
    "b = utils.spatial_inertia(I_float, 1,[0,0,0], [0,0,0])\n",
    "\n",
    "print(a)\n",
    "print(b)"
   ]
  }
 ],
 "metadata": {
  "interpreter": {
   "hash": "916dbcbb3f70747c44a77c7bcd40155683ae19c65e1c03b4aa3499c5328201f1"
  },
  "kernelspec": {
   "display_name": "Python 3.8.10 64-bit",
   "name": "python3"
  },
  "language_info": {
   "codemirror_mode": {
    "name": "ipython",
    "version": 3
   },
   "file_extension": ".py",
   "mimetype": "text/x-python",
   "name": "python",
   "nbconvert_exporter": "python",
   "pygments_lexer": "ipython3",
   "version": "3.8.10"
  },
  "metadata": {
   "interpreter": {
    "hash": "1aaa65760776477b200513a4708dfe8112d71af684253b4518b287658553a52c"
   }
  },
  "orig_nbformat": 3
 },
 "nbformat": 4,
 "nbformat_minor": 2
}
