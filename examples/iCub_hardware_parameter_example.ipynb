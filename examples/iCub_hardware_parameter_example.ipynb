{
 "cells": [
  {
   "cell_type": "code",
   "execution_count": 1,
   "metadata": {},
   "outputs": [],
   "source": [
    "from adam.core.computations import KinDynComputations\n",
    "from adam.geometry import utils\n",
    "import numpy as np\n",
    "import casadi as cs\n",
    "import gym_ignition_models\n",
    "from adam.core.computationsWithHardwareParameters import  KinDynComputationsWithHardwareParameters"
   ]
  },
  {
   "cell_type": "code",
   "execution_count": 2,
   "metadata": {},
   "outputs": [],
   "source": [
    "def SX2DM(sx):\n",
    "    return cs.DM(sx)"
   ]
  },
  {
   "cell_type": "code",
   "execution_count": 3,
   "metadata": {},
   "outputs": [],
   "source": [
    "\n",
    "urdf_path ='/home/carlotta/iit_ws/ergocub-gazebo-simulations/models/stickBot/model.urdf'\n",
    "# urdf_path = gym_ignition_models.get_model_file(\"iCubGazeboV2_5\")\n",
    "# The joint list\n",
    "joints_name_list = [\n",
    "    'torso_pitch', 'torso_roll', 'torso_yaw', 'l_shoulder_pitch',\n",
    "    'l_shoulder_roll', 'l_shoulder_yaw', 'l_elbow', 'r_shoulder_pitch',\n",
    "    'r_shoulder_roll', 'r_shoulder_yaw', 'r_elbow', 'l_hip_pitch', 'l_hip_roll',\n",
    "    'l_hip_yaw', 'l_knee', 'l_ankle_pitch', 'l_ankle_roll', 'r_hip_pitch',\n",
    "    'r_hip_roll', 'r_hip_yaw', 'r_knee', 'r_ankle_pitch', 'r_ankle_roll'\n",
    "]\n",
    "link_name_list = ['l_hip_3', 'l_lower_leg']\n",
    "# Specify the root link\n",
    "root_link = 'root_link'\n",
    "kinDyn =KinDynComputationsWithHardwareParameters(urdf_path, joints_name_list,link_name_list, root_link)"
   ]
  },
  {
   "cell_type": "markdown",
   "metadata": {},
   "source": []
  },
  {
   "cell_type": "markdown",
   "metadata": {},
   "source": []
  },
  {
   "cell_type": "code",
   "execution_count": 4,
   "metadata": {},
   "outputs": [],
   "source": [
    "# Set joints and base informations\n",
    "xyz = (np.random.rand(3) - 0.5) * 5\n",
    "rpy = (np.random.rand(3) - 0.5) * 5\n",
    "H_b = utils.H_from_PosRPY(xyz, rpy)\n",
    "v_b = (np.random.rand(6) - 0.5) * 5\n",
    "s = (np.random.rand(len(joints_name_list)) - 0.5) * 5\n",
    "s_dot = (np.random.rand(len(joints_name_list)) - 0.5) * 5\n",
    "density =np.random.rand(len(link_name_list))  \n",
    "lenght_multiplier = np.random.rand(len(link_name_list))"
   ]
  },
  {
   "cell_type": "code",
   "execution_count": 5,
   "metadata": {},
   "outputs": [
    {
     "name": "stdout",
     "output_type": "stream",
     "text": [
      "2\n",
      "l_hip_3\n",
      "['l_hip_3', 'l_lower_leg']\n",
      "l_hip_3\n",
      "l_hip_yaw\n",
      "l_lower_leg\n",
      "['l_hip_3', 'l_lower_leg']\n",
      "l_lower_leg\n",
      "l_ankle_pitch\n",
      "J_cmm @1=65.9294, \n",
      "[[@1, 6.21725e-15, -7.99361e-15, -1.22125e-15, -8.53074, 2.53774, -1.19597, 0.520552, -0.767904, -0.120795, -0.461736, -0.0177865, 0.00349411, -0.38205, -0.269156, -0.0102299, 0.00561777, -0.324202, -0.470737, -0.0300292, 0.187006, -0.0926795, -0.00355603, -2.47547, -2.08092, -1.38766, 1.45576, -0.0877001, 0.00550199], \n",
      " [-2.66454e-15, @1, 3.55271e-15, 8.53074, 3.88578e-16, 2.55739, 6.64203, -0.195448, -0.109423, 0.244078, 0.0918471, 0.0311579, 0.0551931, 0.271277, 0.209363, 0.00987867, 0.0994582, -0.648252, 0.0842626, 0.128377, 0.143686, 0.0261855, 0.00365296, -1.49586, 3.08565, -0.679599, 0.885815, -0.0181067, -0.0114023], \n",
      " [-9.10383e-15, 0, 65.9294, -2.53774, -2.55739, 1.11022e-15, -2.7345, 0.412701, -1.12995, 0.32959, -0.211528, 0.0326804, -0.0481439, 0.238373, -0.659924, -0.0572691, 0.0125614, 0.256609, -0.572748, -0.0783516, 0.129374, 0.0734118, -0.0140788, 2.55486, -2.06045, 1.78997, 1.4964, -0.0748956, 0.00790437], \n",
      " [-2.36162e-15, -4.16644e-16, -3.82066e-16, 7.9093, -0.803616, -0.22381, 1.12933, 1.25309, -1.8405, 0.222409, -0.106274, 0.0365415, 0.0415024, 0.175099, -0.432537, -0.0676518, -0.0038992, -0.776201, 0.129702, 0.955595, 0.209771, -0.239582, 1.00001, -1.97034, 2.17615, -1.85964, -1.41465, 0.627746, -0.463723], \n",
      " [1.44703e-15, 1.84697e-15, 1.93367e-15, -0.803616, 7.71503, -0.0175765, 1.2432, 0.239915, 1.0675, -0.236536, 0.292295, 0.0956681, -0.0726223, -0.237611, 0.448284, -0.151, 0.0205457, 0.0689029, 1.09364, -0.0334605, -0.835424, 0.814984, 0.12384, 0.649603, -0.000777956, -0.0633491, -0.553615, 0.343304, -0.664752], \n",
      " [-4.09647e-16, -1.48854e-15, 2.52818e-15, -0.22381, -0.0175765, 9.22127, 2.91937, -1.68159, 1.30622, 0.243184, 0.335886, -0.0687062, -0.0802435, 0.51824, 0.355796, -0.0101757, -0.160933, -0.81765, 0.0530808, -0.421509, 0.624588, -0.593599, -0.22045, -1.61193, -2.90555, -1.48476, 1.70525, -0.81863, -0.636141]]\n"
     ]
    }
   ],
   "source": [
    "[M, J_cmm] = kinDyn.crba()\n",
    "# print(\"M\", M(H_b, s, density, lenght_multiplier))\n",
    "print(\"J_cmm\",J_cmm(H_b, s, density, lenght_multiplier))"
   ]
  },
  {
   "cell_type": "code",
   "execution_count": null,
   "metadata": {},
   "outputs": [],
   "source": []
  },
  {
   "cell_type": "markdown",
   "metadata": {},
   "source": []
  }
 ],
 "metadata": {
  "interpreter": {
   "hash": "916dbcbb3f70747c44a77c7bcd40155683ae19c65e1c03b4aa3499c5328201f1"
  },
  "kernelspec": {
   "display_name": "Python 3.8.10 64-bit",
   "name": "python3"
  },
  "language_info": {
   "codemirror_mode": {
    "name": "ipython",
    "version": 3
   },
   "file_extension": ".py",
   "mimetype": "text/x-python",
   "name": "python",
   "nbconvert_exporter": "python",
   "pygments_lexer": "ipython3",
   "version": "3.8.10"
  },
  "metadata": {
   "interpreter": {
    "hash": "1aaa65760776477b200513a4708dfe8112d71af684253b4518b287658553a52c"
   }
  },
  "orig_nbformat": 3
 },
 "nbformat": 4,
 "nbformat_minor": 2
}
