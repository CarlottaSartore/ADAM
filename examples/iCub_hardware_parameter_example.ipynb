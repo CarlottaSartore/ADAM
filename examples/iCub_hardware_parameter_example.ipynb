{
 "cells": [
  {
   "cell_type": "code",
   "execution_count": 1,
   "metadata": {},
   "outputs": [],
   "source": [
    "from adam.core.computations import KinDynComputations\n",
    "from adam.geometry import utils\n",
    "import numpy as np\n",
    "import casadi as cs\n",
    "import gym_ignition_models\n",
    "from adam.core.computationsWithHardwareParameters import  KinDynComputationsWithHardwareParameters"
   ]
  },
  {
   "cell_type": "code",
   "execution_count": 2,
   "metadata": {},
   "outputs": [],
   "source": [
    "def SX2DM(sx):\n",
    "    return cs.DM(sx)"
   ]
  },
  {
   "cell_type": "code",
   "execution_count": 3,
   "metadata": {},
   "outputs": [],
   "source": [
    "urdf_path = gym_ignition_models.get_model_file(\"iCubGazeboV2_5\")\n",
    "# The joint list\n",
    "joints_name_list = [\n",
    "    'torso_pitch', 'torso_roll', 'torso_yaw', 'l_shoulder_pitch',\n",
    "    'l_shoulder_roll', 'l_shoulder_yaw', 'l_elbow', 'r_shoulder_pitch',\n",
    "    'r_shoulder_roll', 'r_shoulder_yaw', 'r_elbow', 'l_hip_pitch', 'l_hip_roll',\n",
    "    'l_hip_yaw', 'l_knee', 'l_ankle_pitch', 'l_ankle_roll', 'r_hip_pitch',\n",
    "    'r_hip_roll', 'r_hip_yaw', 'r_knee', 'r_ankle_pitch', 'r_ankle_roll'\n",
    "]\n",
    "link_name_list = ['l_hip_3']\n",
    "joint_modified_list = ['l_hip_yaw']\n",
    "# Specify the root link\n",
    "root_link = 'root_link'\n",
    "kinDyn =KinDynComputationsWithHardwareParameters(urdf_path, joints_name_list,link_name_list,joint_modified_list, root_link)"
   ]
  },
  {
   "cell_type": "markdown",
   "metadata": {},
   "source": []
  },
  {
   "cell_type": "code",
   "execution_count": 4,
   "metadata": {},
   "outputs": [],
   "source": [
    "# Set joints and base informations\n",
    "xyz = (np.random.rand(3) - 0.5) * 5\n",
    "rpy = (np.random.rand(3) - 0.5) * 5\n",
    "H_b = utils.H_from_PosRPY(xyz, rpy)\n",
    "v_b = (np.random.rand(6) - 0.5) * 5\n",
    "s = (np.random.rand(len(joints_name_list)) - 0.5) * 5\n",
    "s_dot = (np.random.rand(len(joints_name_list)) - 0.5) * 5\n",
    "density = 0.1 \n",
    "lenght_multiplier = 1"
   ]
  },
  {
   "cell_type": "code",
   "execution_count": 5,
   "metadata": {},
   "outputs": [
    {
     "ename": "TypeError",
     "evalue": "cannot unpack non-iterable method object",
     "output_type": "error",
     "traceback": [
      "\u001b[0;31m---------------------------------------------------------------------------\u001b[0m",
      "\u001b[0;31mTypeError\u001b[0m                                 Traceback (most recent call last)",
      "\u001b[0;32m/tmp/ipykernel_41996/4267191615.py\u001b[0m in \u001b[0;36m<module>\u001b[0;34m\u001b[0m\n\u001b[0;32m----> 1\u001b[0;31m \u001b[0;34m[\u001b[0m\u001b[0mM\u001b[0m\u001b[0;34m,\u001b[0m \u001b[0mJ_cmm\u001b[0m\u001b[0;34m]\u001b[0m \u001b[0;34m=\u001b[0m \u001b[0mkinDyn\u001b[0m\u001b[0;34m.\u001b[0m\u001b[0mcrba\u001b[0m\u001b[0;34m\u001b[0m\u001b[0;34m\u001b[0m\u001b[0m\n\u001b[0m\u001b[1;32m      2\u001b[0m \u001b[0mM\u001b[0m\u001b[0;34m(\u001b[0m\u001b[0mH_b\u001b[0m\u001b[0;34m,\u001b[0m \u001b[0ms\u001b[0m\u001b[0;34m,\u001b[0m \u001b[0mdensity\u001b[0m\u001b[0;34m,\u001b[0m \u001b[0mlenght_multiplier\u001b[0m\u001b[0;34m)\u001b[0m\u001b[0;34m\u001b[0m\u001b[0;34m\u001b[0m\u001b[0m\n",
      "\u001b[0;31mTypeError\u001b[0m: cannot unpack non-iterable method object"
     ]
    }
   ],
   "source": [
    "[M, J_cmm] = kinDyn.crba()\n",
    "M(H_b, s, density, lenght_multiplier)"
   ]
  }
 ],
 "metadata": {
  "interpreter": {
   "hash": "916dbcbb3f70747c44a77c7bcd40155683ae19c65e1c03b4aa3499c5328201f1"
  },
  "kernelspec": {
   "display_name": "Python 3.8.10 64-bit",
   "name": "python3"
  },
  "language_info": {
   "codemirror_mode": {
    "name": "ipython",
    "version": 3
   },
   "file_extension": ".py",
   "mimetype": "text/x-python",
   "name": "python",
   "nbconvert_exporter": "python",
   "pygments_lexer": "ipython3",
   "version": "3.8.10"
  },
  "metadata": {
   "interpreter": {
    "hash": "1aaa65760776477b200513a4708dfe8112d71af684253b4518b287658553a52c"
   }
  },
  "orig_nbformat": 3
 },
 "nbformat": 4,
 "nbformat_minor": 2
}
