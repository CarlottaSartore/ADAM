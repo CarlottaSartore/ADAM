{
 "cells": [
  {
   "cell_type": "code",
   "execution_count": null,
   "source": [
    "from adam.core.computations import KinDynComputations\n",
    "from adam.geometry import utils\n",
    "import numpy as np\n",
    "import casadi as cs\n",
    "import gym_ignition_models"
   ],
   "outputs": [],
   "metadata": {}
  },
  {
   "cell_type": "code",
   "execution_count": null,
   "source": [
    "def SX2DM(sx):\n",
    "    return cs.DM(sx)"
   ],
   "outputs": [],
   "metadata": {}
  },
  {
   "cell_type": "markdown",
   "source": [
    "## Import the robot .urdf"
   ],
   "metadata": {}
  },
  {
   "cell_type": "code",
   "execution_count": null,
   "source": [
    "urdf_path = gym_ignition_models.get_model_file(\"iCubGazeboV2_5\")\n",
    "# The joint list\n",
    "joints_name_list = [\n",
    "    'torso_pitch', 'torso_roll', 'torso_yaw', 'l_shoulder_pitch',\n",
    "    'l_shoulder_roll', 'l_shoulder_yaw', 'l_elbow', 'r_shoulder_pitch',\n",
    "    'r_shoulder_roll', 'r_shoulder_yaw', 'r_elbow', 'l_hip_pitch', 'l_hip_roll',\n",
    "    'l_hip_yaw', 'l_knee', 'l_ankle_pitch', 'l_ankle_roll', 'r_hip_pitch',\n",
    "    'r_hip_roll', 'r_hip_yaw', 'r_knee', 'r_ankle_pitch', 'r_ankle_roll'\n",
    "]\n",
    "# Specify the root link\n",
    "root_link = 'root_link'\n",
    "kinDyn = KinDynComputations(urdf_path, joints_name_list, root_link)"
   ],
   "outputs": [],
   "metadata": {}
  },
  {
   "cell_type": "markdown",
   "source": [
    "The class `KinDynComputations` contains some algorithms for computing kinematics and dynamics quantities."
   ],
   "metadata": {}
  },
  {
   "cell_type": "code",
   "execution_count": null,
   "source": [
    "# Set joints and base informations\n",
    "xyz = (np.random.rand(3) - 0.5) * 5\n",
    "rpy = (np.random.rand(3) - 0.5) * 5\n",
    "H_b = utils.H_from_PosRPY(xyz, rpy)\n",
    "v_b = (np.random.rand(6) - 0.5) * 5\n",
    "s = (np.random.rand(len(joints_name_list)) - 0.5) * 5\n",
    "s_dot = (np.random.rand(len(joints_name_list)) - 0.5) * 5\n",
    "masses = (np.random.rand(kinDyn.tree.N))*0.1\n",
    "InertiaMatrix = (np.random.rand(3,3))*0.2"
   ],
   "outputs": [],
   "metadata": {}
  },
  {
   "cell_type": "code",
   "execution_count": null,
   "source": [],
   "outputs": [],
   "metadata": {}
  },
  {
   "cell_type": "markdown",
   "source": [
    "## Mass Matrix"
   ],
   "metadata": {}
  },
  {
   "cell_type": "code",
   "execution_count": null,
   "source": [
    "M = kinDyn.mass_matrix_fun()\n",
    "print('Mass matrix:\\n', SX2DM(M(H_b, s, masses, InertiaMatrix)))"
   ],
   "outputs": [],
   "metadata": {}
  },
  {
   "cell_type": "markdown",
   "source": [
    "## Centroidal Momentum Matrix"
   ],
   "metadata": {}
  },
  {
   "cell_type": "code",
   "execution_count": null,
   "source": [
    "Jcm = kinDyn.centroidal_momentum_matrix_fun()\n",
    "print('Centroidal Momentum Matrix:\\n', SX2DM(Jcm(H_b, s, masses, InertiaMatrix)))"
   ],
   "outputs": [],
   "metadata": {}
  },
  {
   "cell_type": "markdown",
   "source": [
    "## Center of mass position"
   ],
   "metadata": {}
  },
  {
   "cell_type": "code",
   "execution_count": null,
   "source": [
    "CoM = kinDyn.CoM_position_fun()\n",
    "print('Center of Mass position:\\n', SX2DM(CoM(H_b, s)))"
   ],
   "outputs": [],
   "metadata": {}
  },
  {
   "cell_type": "markdown",
   "source": [
    "## Total Mass"
   ],
   "metadata": {}
  },
  {
   "cell_type": "code",
   "execution_count": null,
   "source": [
    "print('Total mass:\\n', kinDyn.get_total_mass())"
   ],
   "outputs": [],
   "metadata": {}
  },
  {
   "cell_type": "markdown",
   "source": [
    "## Jacobian"
   ],
   "metadata": {}
  },
  {
   "cell_type": "code",
   "execution_count": null,
   "source": [
    "J = kinDyn.jacobian_fun('l_sole')\n",
    "print('Jacobian of the left sole:\\n', SX2DM(J(H_b, s)))"
   ],
   "outputs": [],
   "metadata": {}
  },
  {
   "cell_type": "markdown",
   "source": [
    "## Relative jacobian"
   ],
   "metadata": {}
  },
  {
   "cell_type": "code",
   "execution_count": null,
   "source": [
    "J_r = kinDyn.relative_jacobian_fun('l_sole')\n",
    "print('Jacobian between the root link and left sole:\\n', SX2DM(J_r(s)))"
   ],
   "outputs": [],
   "metadata": {}
  },
  {
   "cell_type": "markdown",
   "source": [
    "## Forward kinematics"
   ],
   "metadata": {}
  },
  {
   "cell_type": "code",
   "execution_count": null,
   "source": [
    "H = kinDyn.forward_kinematics_fun('l_sole')\n",
    "print('Forward kinematics to the left sole:\\n', SX2DM(H(H_b, s)))"
   ],
   "outputs": [],
   "metadata": {}
  },
  {
   "cell_type": "markdown",
   "source": [
    "## Bias force term"
   ],
   "metadata": {}
  },
  {
   "cell_type": "code",
   "execution_count": null,
   "source": [
    "h = kinDyn.bias_force_fun()\n",
    "print('Bias force term:\\n', SX2DM(h(H_b, s, v_b, s_dot, InertiaMatrix)))"
   ],
   "outputs": [],
   "metadata": {}
  },
  {
   "cell_type": "markdown",
   "source": [
    "## Coriolis term"
   ],
   "metadata": {}
  },
  {
   "cell_type": "code",
   "execution_count": null,
   "source": [
    "C = kinDyn.coriolis_term_fun()\n",
    "print('Coriolis force term:\\n', SX2DM(C(H_b, s, v_b, s_dot, InertiaMatrix)))"
   ],
   "outputs": [],
   "metadata": {}
  },
  {
   "cell_type": "markdown",
   "source": [
    "## Gravity term"
   ],
   "metadata": {}
  },
  {
   "cell_type": "code",
   "execution_count": null,
   "source": [
    "G = kinDyn.gravity_term_fun()\n",
    "print('Gravity term:\\n', SX2DM(G(H_b, s, InertiaMatrix)))"
   ],
   "outputs": [],
   "metadata": {}
  },
  {
   "cell_type": "code",
   "execution_count": null,
   "source": [
    "opti = cs.Opti()\n",
    "Inertia_optiVar = opti.variable(3,3, 'symmetric')\n",
    "masses_optVar = opti.variable(kinDyn.tree.N)\n",
    "q_param = opti.parameter(kinDyn.NDoF)\n",
    "H_b_param = opti.parameter(4,4)\n",
    "M_f = kinDyn.mass_matrix_fun()\n",
    "a = M_f(H_b_param,q_param, masses_optVar, Inertia_optiVar)\n",
    "opti.minimize((a[1,1]+ a[2,2]))\n",
    "\n",
    "opti.set_value(q_param, s)\n",
    "opti.set_value(H_b_param, H_b)\n",
    "opti.solver('ipopt')\n",
    "sol = opti.solve()\n",
    "\n",
    "print(sol.Inertia_optiVar)"
   ],
   "outputs": [],
   "metadata": {}
  }
 ],
 "metadata": {
  "kernelspec": {
   "name": "python3",
   "display_name": "Python 3.8.10 64-bit"
  },
  "language_info": {
   "codemirror_mode": {
    "name": "ipython",
    "version": 3
   },
   "file_extension": ".py",
   "mimetype": "text/x-python",
   "name": "python",
   "nbconvert_exporter": "python",
   "pygments_lexer": "ipython3",
   "version": "3.8.10"
  },
  "metadata": {
   "interpreter": {
    "hash": "1aaa65760776477b200513a4708dfe8112d71af684253b4518b287658553a52c"
   }
  },
  "orig_nbformat": 3,
  "interpreter": {
   "hash": "916dbcbb3f70747c44a77c7bcd40155683ae19c65e1c03b4aa3499c5328201f1"
  }
 },
 "nbformat": 4,
 "nbformat_minor": 2
}