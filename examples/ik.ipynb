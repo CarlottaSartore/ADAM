{
  "cells": [
    {
      "cell_type": "markdown",
      "metadata": {
        "id": "view-in-github",
        "colab_type": "text"
      },
      "source": [
        "<a href=\"https://colab.research.google.com/github/ami-iit/ADAM/blob/ik-example/examples/ik.ipynb\" target=\"_parent\"><img src=\"https://colab.research.google.com/assets/colab-badge.svg\" alt=\"Open In Colab\"/></a>"
      ]
    },
    {
      "cell_type": "markdown",
      "metadata": {
        "id": "MmkmgG_gGWVi"
      },
      "source": [
        "## Install Mujoco, adam, and mediapy.\n",
        "\n",
        "Download also mujoco-menagerie for the panda model and the urdf needed from adam.\n",
        "Set some stuff for the visualization."
      ]
    },
    {
      "cell_type": "code",
      "execution_count": 1,
      "metadata": {
        "colab": {
          "base_uri": "https://localhost:8080/"
        },
        "id": "4YLBIn1QLEqx",
        "outputId": "33a0c623-d79f-401c-b37f-9f84018defa3"
      },
      "outputs": [
        {
          "output_type": "stream",
          "name": "stdout",
          "text": [
            "Collecting mujoco\n",
            "  Downloading mujoco-3.0.1-cp310-cp310-manylinux_2_17_x86_64.manylinux2014_x86_64.whl (5.3 MB)\n",
            "\u001b[2K     \u001b[90m━━━━━━━━━━━━━━━━━━━━━━━━━━━━━━━━━━━━━━━━\u001b[0m \u001b[32m5.3/5.3 MB\u001b[0m \u001b[31m11.2 MB/s\u001b[0m eta \u001b[36m0:00:00\u001b[0m\n",
            "\u001b[?25hRequirement already satisfied: absl-py in /usr/local/lib/python3.10/dist-packages (from mujoco) (1.4.0)\n",
            "Requirement already satisfied: etils[epath] in /usr/local/lib/python3.10/dist-packages (from mujoco) (1.5.2)\n",
            "Collecting glfw (from mujoco)\n",
            "  Downloading glfw-2.6.3-py2.py27.py3.py30.py31.py32.py33.py34.py35.py36.py37.py38-none-manylinux2014_x86_64.whl (208 kB)\n",
            "\u001b[2K     \u001b[90m━━━━━━━━━━━━━━━━━━━━━━━━━━━━━━━━━━━━━━━━\u001b[0m \u001b[32m208.2/208.2 kB\u001b[0m \u001b[31m22.1 MB/s\u001b[0m eta \u001b[36m0:00:00\u001b[0m\n",
            "\u001b[?25hRequirement already satisfied: numpy in /usr/local/lib/python3.10/dist-packages (from mujoco) (1.23.5)\n",
            "Requirement already satisfied: pyopengl in /usr/local/lib/python3.10/dist-packages (from mujoco) (3.1.7)\n",
            "Requirement already satisfied: fsspec in /usr/local/lib/python3.10/dist-packages (from etils[epath]->mujoco) (2023.6.0)\n",
            "Requirement already satisfied: importlib_resources in /usr/local/lib/python3.10/dist-packages (from etils[epath]->mujoco) (6.1.1)\n",
            "Requirement already satisfied: typing_extensions in /usr/local/lib/python3.10/dist-packages (from etils[epath]->mujoco) (4.5.0)\n",
            "Requirement already satisfied: zipp in /usr/local/lib/python3.10/dist-packages (from etils[epath]->mujoco) (3.17.0)\n",
            "Installing collected packages: glfw, mujoco\n",
            "Successfully installed glfw-2.6.3 mujoco-3.0.1\n",
            "Collecting adam-robotics\n",
            "  Downloading adam_robotics-0.0.8-py3-none-any.whl (43 kB)\n",
            "\u001b[2K     \u001b[90m━━━━━━━━━━━━━━━━━━━━━━━━━━━━━━━━━━━━━━━━\u001b[0m \u001b[32m43.2/43.2 kB\u001b[0m \u001b[31m1.4 MB/s\u001b[0m eta \u001b[36m0:00:00\u001b[0m\n",
            "\u001b[?25hRequirement already satisfied: numpy>=1.20 in /usr/local/lib/python3.10/dist-packages (from adam-robotics) (1.23.5)\n",
            "Requirement already satisfied: scipy in /usr/local/lib/python3.10/dist-packages (from adam-robotics) (1.11.4)\n",
            "Collecting casadi (from adam-robotics)\n",
            "  Downloading casadi-3.6.4-cp310-none-manylinux2014_x86_64.whl (75.3 MB)\n",
            "\u001b[2K     \u001b[90m━━━━━━━━━━━━━━━━━━━━━━━━━━━━━━━━━━━━━━━━\u001b[0m \u001b[32m75.3/75.3 MB\u001b[0m \u001b[31m13.0 MB/s\u001b[0m eta \u001b[36m0:00:00\u001b[0m\n",
            "\u001b[?25hRequirement already satisfied: prettytable in /usr/local/lib/python3.10/dist-packages (from adam-robotics) (3.9.0)\n",
            "Collecting urdf-parser-py (from adam-robotics)\n",
            "  Downloading urdf_parser_py-0.0.4.tar.gz (12 kB)\n",
            "  Preparing metadata (setup.py) ... \u001b[?25l\u001b[?25hdone\n",
            "Requirement already satisfied: wcwidth in /usr/local/lib/python3.10/dist-packages (from prettytable->adam-robotics) (0.2.12)\n",
            "Requirement already satisfied: pyyaml in /usr/local/lib/python3.10/dist-packages (from urdf-parser-py->adam-robotics) (6.0.1)\n",
            "Requirement already satisfied: lxml in /usr/local/lib/python3.10/dist-packages (from urdf-parser-py->adam-robotics) (4.9.3)\n",
            "Building wheels for collected packages: urdf-parser-py\n",
            "  Building wheel for urdf-parser-py (setup.py) ... \u001b[?25l\u001b[?25hdone\n",
            "  Created wheel for urdf-parser-py: filename=urdf_parser_py-0.0.4-py3-none-any.whl size=14549 sha256=1938c2d5d4910bf86c6f92c4763a19aabb3b26b203b787138faddf01346f5ec6\n",
            "  Stored in directory: /root/.cache/pip/wheels/09/0d/9f/f0e2fb2ae580623b840d041d4aab0a9df02f5047f283f4ecd1\n",
            "Successfully built urdf-parser-py\n",
            "Installing collected packages: urdf-parser-py, casadi, adam-robotics\n",
            "Successfully installed adam-robotics-0.0.8 casadi-3.6.4 urdf-parser-py-0.0.4\n",
            "\u001b[2K     \u001b[90m━━━━━━━━━━━━━━━━━━━━━━━━━━━━━━━━━━━━━━━━\u001b[0m \u001b[32m1.6/1.6 MB\u001b[0m \u001b[31m22.8 MB/s\u001b[0m eta \u001b[36m0:00:00\u001b[0m\n",
            "\u001b[?25hCloning into 'mujoco_menagerie'...\n",
            "remote: Enumerating objects: 1433, done.\u001b[K\n",
            "remote: Counting objects: 100% (265/265), done.\u001b[K\n",
            "remote: Compressing objects: 100% (160/160), done.\u001b[K\n",
            "remote: Total 1433 (delta 150), reused 112 (delta 104), pack-reused 1168\u001b[K\n",
            "Receiving objects: 100% (1433/1433), 144.12 MiB | 15.63 MiB/s, done.\n",
            "Resolving deltas: 100% (580/580), done.\n",
            "Updating files: 100% (767/767), done.\n",
            "--2023-12-12 10:43:33--  https://raw.githubusercontent.com/bulletphysics/bullet3/master/examples/pybullet/gym/pybullet_data/franka_panda/panda.urdf\n",
            "Resolving raw.githubusercontent.com (raw.githubusercontent.com)... 185.199.108.133, 185.199.109.133, 185.199.110.133, ...\n",
            "Connecting to raw.githubusercontent.com (raw.githubusercontent.com)|185.199.108.133|:443... connected.\n",
            "HTTP request sent, awaiting response... 200 OK\n",
            "Length: 11263 (11K) [text/plain]\n",
            "Saving to: ‘panda.urdf’\n",
            "\n",
            "panda.urdf          100%[===================>]  11.00K  --.-KB/s    in 0s      \n",
            "\n",
            "2023-12-12 10:43:33 (34.6 MB/s) - ‘panda.urdf’ saved [11263/11263]\n",
            "\n",
            "Installing mediapy:\n",
            "Setting environment variable to use GPU rendering:\n",
            "env: MUJOCO_GL=egl\n"
          ]
        }
      ],
      "source": [
        "!pip install mujoco\n",
        "!pip install adam-robotics\n",
        "!pip install -q mediapy\n",
        "!git clone https://github.com/google-deepmind/mujoco_menagerie.git\n",
        "!wget https://raw.githubusercontent.com/bulletphysics/bullet3/master/examples/pybullet/gym/pybullet_data/franka_panda/panda.urdf\n",
        "# Graphics and plotting.\n",
        "print('Installing mediapy:')\n",
        "!command -v ffmpeg >/dev/null || (apt update && apt install -y ffmpeg)\n",
        "\n",
        "# Configure MuJoCo to use the EGL rendering backend (requires GPU)\n",
        "print('Setting environment variable to use GPU rendering:')\n",
        "%env MUJOCO_GL=egl\n"
      ]
    },
    {
      "cell_type": "markdown",
      "metadata": {
        "id": "Dz4cHPy2Gtmq"
      },
      "source": [
        "## Import packages"
      ]
    },
    {
      "cell_type": "code",
      "execution_count": 2,
      "metadata": {
        "id": "ztJxnbhaLEqz"
      },
      "outputs": [],
      "source": [
        "import mujoco\n",
        "import mediapy as media\n",
        "from adam.casadi import KinDynComputations\n",
        "import numpy as np\n",
        "import casadi as cs\n"
      ]
    },
    {
      "cell_type": "markdown",
      "metadata": {
        "id": "2zw4FO-IGxdR"
      },
      "source": [
        "## Import the panda scene in mujoco"
      ]
    },
    {
      "cell_type": "code",
      "execution_count": 3,
      "metadata": {
        "id": "iEBl8tgoLEq0"
      },
      "outputs": [],
      "source": [
        "# load scene from xml\n",
        "model = mujoco.MjModel.from_xml_path(\"mujoco_menagerie/franka_emika_panda/scene.xml\")\n"
      ]
    },
    {
      "cell_type": "markdown",
      "metadata": {
        "id": "CZMO7PsmKUB6"
      },
      "source": [
        "## Import urdf in adam\n",
        "\n",
        "Set the commanded joint list and impor the urdf in adam.\n",
        "\n",
        "For now I have to use a separate urdf for adam.\n",
        "An importer for a mujoco model could be an idea for the future!"
      ]
    },
    {
      "cell_type": "code",
      "execution_count": 4,
      "metadata": {
        "colab": {
          "base_uri": "https://localhost:8080/"
        },
        "id": "gupN7s3CLEq0",
        "outputId": "07046478-0804-40b9-bea3-1930da894a79"
      },
      "outputs": [
        {
          "output_type": "stream",
          "name": "stderr",
          "text": [
            "Unknown tag \"material\" in /robot[@name='panda']/link[@name='panda_link0']/collision[1]\n",
            "Unknown tag \"material\" in /robot[@name='panda']/link[@name='panda_link1']/collision[1]\n",
            "Unknown tag \"material\" in /robot[@name='panda']/link[@name='panda_link2']/collision[1]\n",
            "Unknown tag \"material\" in /robot[@name='panda']/link[@name='panda_link4']/collision[1]\n",
            "Unknown tag \"material\" in /robot[@name='panda']/link[@name='panda_link5']/collision[1]\n",
            "Unknown tag \"material\" in /robot[@name='panda']/link[@name='panda_link6']/collision[1]\n",
            "Unknown tag \"material\" in /robot[@name='panda']/link[@name='panda_link7']/collision[1]\n",
            "Unknown tag \"material\" in /robot[@name='panda']/link[@name='panda_hand']/collision[1]\n",
            "Unknown tag \"material\" in /robot[@name='panda']/link[@name='panda_leftfinger']/collision[1]\n",
            "Unknown tag \"contact\" in /robot[@name='panda']/link[@name='panda_leftfinger']\n",
            "Unknown tag \"material\" in /robot[@name='panda']/link[@name='panda_rightfinger']/collision[1]\n",
            "Unknown tag \"contact\" in /robot[@name='panda']/link[@name='panda_rightfinger']\n"
          ]
        }
      ],
      "source": [
        "joints_name_list = ['panda_joint1', 'panda_joint2', 'panda_joint3', 'panda_joint4', 'panda_joint5', 'panda_joint6', 'panda_joint7', 'panda_joint8']\n",
        "\n",
        "kindyn = KinDynComputations(urdfstring=\"panda.urdf\", joints_name_list=joints_name_list)\n"
      ]
    },
    {
      "cell_type": "markdown",
      "metadata": {
        "id": "g5LX5kQAKwaM"
      },
      "source": [
        "## A wrapper interface with mujoco"
      ]
    },
    {
      "cell_type": "code",
      "execution_count": 5,
      "metadata": {
        "id": "XpniQY18LEq0"
      },
      "outputs": [],
      "source": [
        "class MujocoWrapper:\n",
        "  # a simple wrapper to use mujoco as a simulator\n",
        "  def __init__(self, model, joints_list=None):\n",
        "    self.model = model\n",
        "    self.data = mujoco.MjData(model)\n",
        "    self.renderer = mujoco.Renderer(self.model)\n",
        "\n",
        "  def set_qpos(self, qpos):\n",
        "    # set the joint positions\n",
        "    self.data.qpos[:] = qpos\n",
        "    mujoco.mj_forward(self.model, self.data)\n",
        "\n",
        "  def get_qpos(self):\n",
        "    # get the joint positions\n",
        "    return self.data.qpos[:]\n",
        "\n",
        "  def render(self):\n",
        "    # render the scene and return the frame\n",
        "    mujoco.mj_forward(self.model, self.data)\n",
        "    self.renderer.update_scene(self.data)\n",
        "    return self.renderer.render()\n",
        "\n",
        "  def step(self):\n",
        "    # step the simulation\n",
        "    mujoco.mj_step(self.model, self.data)\n",
        "\n",
        "  def set_qvel(self, qvel):\n",
        "    # set the joint velocities\n",
        "    self.data.qvel[:] = qvel\n",
        "    mujoco.mj_forward(self.model, self.data)\n",
        "\n",
        "wrapper = MujocoWrapper(model)\n"
      ]
    },
    {
      "cell_type": "markdown",
      "metadata": {
        "id": "wuY9hqdlD3Vo"
      },
      "source": [
        "# Model IK\n",
        "\n",
        "A simple IK with damped least squares and manipulability regularization."
      ]
    },
    {
      "cell_type": "code",
      "execution_count": 8,
      "metadata": {
        "id": "r8w2TWr6LEq1"
      },
      "outputs": [],
      "source": [
        "# setup inverse kinematics\n",
        "\n",
        "\n",
        "w_H_ee = kindyn.forward_kinematics_fun(\"panda_hand\")\n",
        "J = kindyn.jacobian_fun(\"panda_hand\")\n",
        "\n",
        "class InverseKinematics:\n",
        "    def __init__(self, w_H_ee, J):\n",
        "        self.q_cs = cs.SX.sym(\"joint_positions\", 8)\n",
        "        self.q_dot_cs = cs.SX.sym(\"joint_velocities\", 8)\n",
        "        w_H_b = np.eye(4)\n",
        "        self.w_p_ee = cs.Function(\"w_H_ee\", [self.q_cs], [w_H_ee(w_H_b, self.q_cs)[:3, 3]])\n",
        "        self.J = cs.Function(\"J\", [self.q_cs], [J(w_H_b, self.q_cs)[:3, 6:]])\n",
        "        manipulability = cs.sqrt(cs.det(self.J(self.q_cs) @ self.J(self.q_cs).T))\n",
        "        # use casadi tools to compute the gradient of the manipulability\n",
        "        q_dot_manipulability = cs.jacobian(manipulability, self.q_cs).T\n",
        "        self.q_dot_manipulability = cs.Function(\"q_dot_manipulability\", [self.q_cs], [q_dot_manipulability])\n",
        "\n",
        "    def __call__(self, q, w_p_ee_desired):\n",
        "        w_p_ee = self.w_p_ee(q)\n",
        "        ee_error =  w_p_ee_desired - w_p_ee\n",
        "        J = self.J(q)\n",
        "        K_p = 2\n",
        "        N = self.null_space_projection(J)\n",
        "        q_dot_bias = self.q_dot_manipulability(q)\n",
        "        # damped least squares\n",
        "        damping_factor = 1e-2\n",
        "        damped_pinv = np.linalg.inv(J.T @ J + damping_factor * np.eye(8)) @ J.T\n",
        "        q_dot = damped_pinv @ (K_p * ee_error) + N @ q_dot_bias\n",
        "        return np.array(q_dot).squeeze()\n",
        "\n",
        "    def null_space_projection(self, J):\n",
        "        return np.eye(8) - np.linalg.pinv(J) @ J\n",
        "\n",
        "ik = InverseKinematics(w_H_ee, J)\n"
      ]
    },
    {
      "cell_type": "markdown",
      "metadata": {
        "id": "Hf-Uq8PWFy6v"
      },
      "source": [
        "# Simulation loop\n",
        "\n",
        "We set the joint velocities as control input in Mujoco.\n",
        "We retrieve the joint positions as measurement from Mujoco and set them as feedback for the IK.\n"
      ]
    },
    {
      "cell_type": "code",
      "execution_count": null,
      "metadata": {
        "id": "zG_pcqOfLEq1"
      },
      "outputs": [],
      "source": [
        "# start mujoco simulation along with control\n",
        "duration = 10  # (seconds)\n",
        "framerate = 100  # (Hz)\n",
        "\n",
        "# Simulate and display video.\n",
        "\n",
        "des_ee_pos_numeric = np.array([0.4, 1.0, 0.4])\n",
        "\n",
        "frames = []\n",
        "mujoco.mj_resetData(wrapper.model, wrapper.data)\n",
        "i = 0\n",
        "while wrapper.data.time < duration:\n",
        "  wrapper.step()\n",
        "  if len(frames) < wrapper.data.time * framerate:\n",
        "    i += 1\n",
        "    q0_numeric = wrapper.get_qpos()\n",
        "    # remove the last joint since they are not controlled\n",
        "    q0_numeric = q0_numeric[:-1]\n",
        "    # set the initial condition\n",
        "    sol_q_dot = ik(q0_numeric, des_ee_pos_numeric)\n",
        "    sol_q_dot = np.concatenate((sol_q_dot, np.zeros(1)))\n",
        "    wrapper.set_qvel(sol_q_dot)\n",
        "    pixels = wrapper.render()\n",
        "    frames.append(pixels)\n",
        "  if wrapper.data.time > 2:\n",
        "    # change the desired ee position\n",
        "    des_ee_pos_numeric = np.array([2.0, 0.0, 0.2])\n",
        "    sol_q_dot = ik(q0_numeric, des_ee_pos_numeric)\n",
        "  if wrapper.data.time > 4:\n",
        "    # change the desired ee position\n",
        "    des_ee_pos_numeric = np.array([0.0, 0.5, 0.4])\n",
        "    sol_q_dot = ik(q0_numeric, des_ee_pos_numeric)\n",
        "  if wrapper.data.time > 6:\n",
        "    # change the desired ee position\n",
        "    des_ee_pos_numeric = np.array([0.0, -0.6, 0.6])\n",
        "    sol_q_dot = ik(q0_numeric, des_ee_pos_numeric)\n",
        "\n",
        "media.show_video(frames, fps=framerate)\n"
      ]
    }
  ],
  "metadata": {
    "colab": {
      "provenance": [],
      "include_colab_link": true
    },
    "kernelspec": {
      "display_name": "adam_env",
      "language": "python",
      "name": "python3"
    },
    "language_info": {
      "codemirror_mode": {
        "name": "ipython",
        "version": 3
      },
      "file_extension": ".py",
      "mimetype": "text/x-python",
      "name": "python",
      "nbconvert_exporter": "python",
      "pygments_lexer": "ipython3",
      "version": "3.10.11"
    }
  },
  "nbformat": 4,
  "nbformat_minor": 0
}